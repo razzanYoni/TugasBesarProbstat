{
 "cells": [
  {
   "attachments": {},
   "cell_type": "markdown",
   "metadata": {
    "datalore": {
     "hide_input_from_viewers": false,
     "hide_output_from_viewers": false,
     "node_id": "yPbNFy4QlDmnYgfoxwhsRq",
     "report_properties": {
      "rowId": "fCwA4pV2Avvp8YWJzVwzoC"
     },
     "type": "MD"
    }
   },
   "source": [
    "# Soal 1\n",
    "Menulis deskripsi statistika (Descriptive Statistics) dari semua kolom pada data yang bersifat\n",
    "numerik"
   ]
  },
  {
   "cell_type": "code",
   "execution_count": 1,
   "metadata": {
    "datalore": {
     "hide_input_from_viewers": false,
     "hide_output_from_viewers": false,
     "node_id": "sTAfHkABa2GOnTYagMtXdY",
     "report_properties": {
      "rowId": "gluZeJkgQTrD9kZLHutjVN"
     },
     "type": "CODE"
    }
   },
   "outputs": [],
   "source": [
    "import pandas as pd"
   ]
  },
  {
   "cell_type": "code",
   "execution_count": 2,
   "metadata": {
    "datalore": {
     "hide_input_from_viewers": false,
     "hide_output_from_viewers": false,
     "node_id": "qKVxSgnqwWcg1X9QdW99ZE",
     "report_properties": {
      "rowId": "tqh9tL0tWF391Fl4Wxt9hn"
     },
     "type": "CODE"
    }
   },
   "outputs": [
    {
     "data": {
      "text/html": [
       "<div>\n",
       "<style scoped>\n",
       "    .dataframe tbody tr th:only-of-type {\n",
       "        vertical-align: middle;\n",
       "    }\n",
       "\n",
       "    .dataframe tbody tr th {\n",
       "        vertical-align: top;\n",
       "    }\n",
       "\n",
       "    .dataframe thead th {\n",
       "        text-align: right;\n",
       "    }\n",
       "</style>\n",
       "<table border=\"1\" class=\"dataframe\">\n",
       "  <thead>\n",
       "    <tr style=\"text-align: right;\">\n",
       "      <th></th>\n",
       "      <th>fixed acidity</th>\n",
       "      <th>volatile acidity</th>\n",
       "      <th>citric acid</th>\n",
       "      <th>residual sugar</th>\n",
       "      <th>chlorides</th>\n",
       "      <th>free sulfur dioxide</th>\n",
       "      <th>total sulfur dioxide</th>\n",
       "      <th>density</th>\n",
       "      <th>pH</th>\n",
       "      <th>sulphates</th>\n",
       "      <th>alcohol</th>\n",
       "      <th>quality</th>\n",
       "    </tr>\n",
       "  </thead>\n",
       "  <tbody>\n",
       "    <tr>\n",
       "      <th>0</th>\n",
       "      <td>5.90</td>\n",
       "      <td>0.4451</td>\n",
       "      <td>0.1813</td>\n",
       "      <td>2.049401</td>\n",
       "      <td>0.070574</td>\n",
       "      <td>16.593818</td>\n",
       "      <td>42.27</td>\n",
       "      <td>0.9982</td>\n",
       "      <td>3.27</td>\n",
       "      <td>0.71</td>\n",
       "      <td>8.64</td>\n",
       "      <td>7</td>\n",
       "    </tr>\n",
       "    <tr>\n",
       "      <th>1</th>\n",
       "      <td>8.40</td>\n",
       "      <td>0.5768</td>\n",
       "      <td>0.2099</td>\n",
       "      <td>3.109590</td>\n",
       "      <td>0.101681</td>\n",
       "      <td>22.555519</td>\n",
       "      <td>16.01</td>\n",
       "      <td>0.9960</td>\n",
       "      <td>3.35</td>\n",
       "      <td>0.57</td>\n",
       "      <td>10.03</td>\n",
       "      <td>8</td>\n",
       "    </tr>\n",
       "    <tr>\n",
       "      <th>2</th>\n",
       "      <td>7.54</td>\n",
       "      <td>0.5918</td>\n",
       "      <td>0.3248</td>\n",
       "      <td>3.673744</td>\n",
       "      <td>0.072416</td>\n",
       "      <td>9.316866</td>\n",
       "      <td>35.52</td>\n",
       "      <td>0.9990</td>\n",
       "      <td>3.31</td>\n",
       "      <td>0.64</td>\n",
       "      <td>9.23</td>\n",
       "      <td>8</td>\n",
       "    </tr>\n",
       "    <tr>\n",
       "      <th>3</th>\n",
       "      <td>5.39</td>\n",
       "      <td>0.4201</td>\n",
       "      <td>0.3131</td>\n",
       "      <td>3.371815</td>\n",
       "      <td>0.072755</td>\n",
       "      <td>18.212300</td>\n",
       "      <td>41.97</td>\n",
       "      <td>0.9945</td>\n",
       "      <td>3.34</td>\n",
       "      <td>0.55</td>\n",
       "      <td>14.07</td>\n",
       "      <td>9</td>\n",
       "    </tr>\n",
       "    <tr>\n",
       "      <th>4</th>\n",
       "      <td>6.51</td>\n",
       "      <td>0.5675</td>\n",
       "      <td>0.1940</td>\n",
       "      <td>4.404723</td>\n",
       "      <td>0.066379</td>\n",
       "      <td>9.360591</td>\n",
       "      <td>46.27</td>\n",
       "      <td>0.9925</td>\n",
       "      <td>3.27</td>\n",
       "      <td>0.45</td>\n",
       "      <td>11.49</td>\n",
       "      <td>8</td>\n",
       "    </tr>\n",
       "    <tr>\n",
       "      <th>...</th>\n",
       "      <td>...</td>\n",
       "      <td>...</td>\n",
       "      <td>...</td>\n",
       "      <td>...</td>\n",
       "      <td>...</td>\n",
       "      <td>...</td>\n",
       "      <td>...</td>\n",
       "      <td>...</td>\n",
       "      <td>...</td>\n",
       "      <td>...</td>\n",
       "      <td>...</td>\n",
       "      <td>...</td>\n",
       "    </tr>\n",
       "    <tr>\n",
       "      <th>995</th>\n",
       "      <td>7.96</td>\n",
       "      <td>0.6046</td>\n",
       "      <td>0.2662</td>\n",
       "      <td>1.592048</td>\n",
       "      <td>0.057555</td>\n",
       "      <td>14.892445</td>\n",
       "      <td>44.61</td>\n",
       "      <td>0.9975</td>\n",
       "      <td>3.35</td>\n",
       "      <td>0.54</td>\n",
       "      <td>10.41</td>\n",
       "      <td>8</td>\n",
       "    </tr>\n",
       "    <tr>\n",
       "      <th>996</th>\n",
       "      <td>8.48</td>\n",
       "      <td>0.4080</td>\n",
       "      <td>0.2227</td>\n",
       "      <td>0.681955</td>\n",
       "      <td>0.051627</td>\n",
       "      <td>23.548965</td>\n",
       "      <td>25.83</td>\n",
       "      <td>0.9972</td>\n",
       "      <td>3.41</td>\n",
       "      <td>0.46</td>\n",
       "      <td>9.91</td>\n",
       "      <td>8</td>\n",
       "    </tr>\n",
       "    <tr>\n",
       "      <th>997</th>\n",
       "      <td>6.11</td>\n",
       "      <td>0.4841</td>\n",
       "      <td>0.3720</td>\n",
       "      <td>2.377267</td>\n",
       "      <td>0.042806</td>\n",
       "      <td>21.624585</td>\n",
       "      <td>48.75</td>\n",
       "      <td>0.9928</td>\n",
       "      <td>3.23</td>\n",
       "      <td>0.55</td>\n",
       "      <td>9.94</td>\n",
       "      <td>7</td>\n",
       "    </tr>\n",
       "    <tr>\n",
       "      <th>998</th>\n",
       "      <td>7.76</td>\n",
       "      <td>0.3590</td>\n",
       "      <td>0.3208</td>\n",
       "      <td>4.294486</td>\n",
       "      <td>0.098276</td>\n",
       "      <td>12.746186</td>\n",
       "      <td>44.53</td>\n",
       "      <td>0.9952</td>\n",
       "      <td>3.30</td>\n",
       "      <td>0.66</td>\n",
       "      <td>9.76</td>\n",
       "      <td>8</td>\n",
       "    </tr>\n",
       "    <tr>\n",
       "      <th>999</th>\n",
       "      <td>5.87</td>\n",
       "      <td>0.5214</td>\n",
       "      <td>0.1883</td>\n",
       "      <td>2.179490</td>\n",
       "      <td>0.052923</td>\n",
       "      <td>16.203864</td>\n",
       "      <td>24.37</td>\n",
       "      <td>0.9983</td>\n",
       "      <td>3.29</td>\n",
       "      <td>0.70</td>\n",
       "      <td>10.17</td>\n",
       "      <td>7</td>\n",
       "    </tr>\n",
       "  </tbody>\n",
       "</table>\n",
       "<p>1000 rows × 12 columns</p>\n",
       "</div>"
      ],
      "text/plain": [
       "     fixed acidity  volatile acidity  citric acid  residual sugar  chlorides  \\\n",
       "0             5.90            0.4451       0.1813        2.049401   0.070574   \n",
       "1             8.40            0.5768       0.2099        3.109590   0.101681   \n",
       "2             7.54            0.5918       0.3248        3.673744   0.072416   \n",
       "3             5.39            0.4201       0.3131        3.371815   0.072755   \n",
       "4             6.51            0.5675       0.1940        4.404723   0.066379   \n",
       "..             ...               ...          ...             ...        ...   \n",
       "995           7.96            0.6046       0.2662        1.592048   0.057555   \n",
       "996           8.48            0.4080       0.2227        0.681955   0.051627   \n",
       "997           6.11            0.4841       0.3720        2.377267   0.042806   \n",
       "998           7.76            0.3590       0.3208        4.294486   0.098276   \n",
       "999           5.87            0.5214       0.1883        2.179490   0.052923   \n",
       "\n",
       "     free sulfur dioxide  total sulfur dioxide  density    pH  sulphates  \\\n",
       "0              16.593818                 42.27   0.9982  3.27       0.71   \n",
       "1              22.555519                 16.01   0.9960  3.35       0.57   \n",
       "2               9.316866                 35.52   0.9990  3.31       0.64   \n",
       "3              18.212300                 41.97   0.9945  3.34       0.55   \n",
       "4               9.360591                 46.27   0.9925  3.27       0.45   \n",
       "..                   ...                   ...      ...   ...        ...   \n",
       "995            14.892445                 44.61   0.9975  3.35       0.54   \n",
       "996            23.548965                 25.83   0.9972  3.41       0.46   \n",
       "997            21.624585                 48.75   0.9928  3.23       0.55   \n",
       "998            12.746186                 44.53   0.9952  3.30       0.66   \n",
       "999            16.203864                 24.37   0.9983  3.29       0.70   \n",
       "\n",
       "     alcohol  quality  \n",
       "0       8.64        7  \n",
       "1      10.03        8  \n",
       "2       9.23        8  \n",
       "3      14.07        9  \n",
       "4      11.49        8  \n",
       "..       ...      ...  \n",
       "995    10.41        8  \n",
       "996     9.91        8  \n",
       "997     9.94        7  \n",
       "998     9.76        8  \n",
       "999    10.17        7  \n",
       "\n",
       "[1000 rows x 12 columns]"
      ]
     },
     "execution_count": 2,
     "metadata": {},
     "output_type": "execute_result"
    }
   ],
   "source": [
    "df = pd.read_csv(\"anggur.csv\")\n",
    "df"
   ]
  },
  {
   "cell_type": "code",
   "execution_count": 3,
   "metadata": {
    "datalore": {
     "hide_input_from_viewers": false,
     "hide_output_from_viewers": false,
     "node_id": "cue8a1ZqEZZNoEItQUSnZQ",
     "report_properties": {
      "rowId": "0HnkNE1ovyfsOuU1SsZoDm"
     },
     "type": "CODE"
    }
   },
   "outputs": [
    {
     "data": {
      "text/html": [
       "<div>\n",
       "<style scoped>\n",
       "    .dataframe tbody tr th:only-of-type {\n",
       "        vertical-align: middle;\n",
       "    }\n",
       "\n",
       "    .dataframe tbody tr th {\n",
       "        vertical-align: top;\n",
       "    }\n",
       "\n",
       "    .dataframe thead th {\n",
       "        text-align: right;\n",
       "    }\n",
       "</style>\n",
       "<table border=\"1\" class=\"dataframe\">\n",
       "  <thead>\n",
       "    <tr style=\"text-align: right;\">\n",
       "      <th></th>\n",
       "      <th>Name</th>\n",
       "      <th>Mean</th>\n",
       "      <th>Median</th>\n",
       "      <th>Modus</th>\n",
       "      <th>Standar deviasi</th>\n",
       "      <th>Variansi</th>\n",
       "      <th>Range</th>\n",
       "      <th>Q1</th>\n",
       "      <th>Q2</th>\n",
       "      <th>Q3</th>\n",
       "      <th>Jarak Antar Kuartil</th>\n",
       "      <th>Skewness</th>\n",
       "      <th>Kurtosis</th>\n",
       "    </tr>\n",
       "  </thead>\n",
       "  <tbody>\n",
       "    <tr>\n",
       "      <th>1</th>\n",
       "      <td>fixed acidity</td>\n",
       "      <td>7.152530</td>\n",
       "      <td>7.150000</td>\n",
       "      <td>6.540000</td>\n",
       "      <td>1.201598</td>\n",
       "      <td>1.443837</td>\n",
       "      <td>8.170000</td>\n",
       "      <td>6.377500</td>\n",
       "      <td>7.150000</td>\n",
       "      <td>8.000000</td>\n",
       "      <td>1.622500</td>\n",
       "      <td>-0.028879</td>\n",
       "      <td>-0.019292</td>\n",
       "    </tr>\n",
       "    <tr>\n",
       "      <th>2</th>\n",
       "      <td>volatile acidity</td>\n",
       "      <td>0.520839</td>\n",
       "      <td>0.524850</td>\n",
       "      <td>0.554600</td>\n",
       "      <td>0.095848</td>\n",
       "      <td>0.009187</td>\n",
       "      <td>0.665200</td>\n",
       "      <td>0.456100</td>\n",
       "      <td>0.524850</td>\n",
       "      <td>0.585375</td>\n",
       "      <td>0.129275</td>\n",
       "      <td>-0.197699</td>\n",
       "      <td>0.161853</td>\n",
       "    </tr>\n",
       "    <tr>\n",
       "      <th>3</th>\n",
       "      <td>citric acid</td>\n",
       "      <td>0.270517</td>\n",
       "      <td>0.272200</td>\n",
       "      <td>0.301900</td>\n",
       "      <td>0.049098</td>\n",
       "      <td>0.002411</td>\n",
       "      <td>0.292900</td>\n",
       "      <td>0.237800</td>\n",
       "      <td>0.272200</td>\n",
       "      <td>0.302325</td>\n",
       "      <td>0.064525</td>\n",
       "      <td>-0.045576</td>\n",
       "      <td>-0.104679</td>\n",
       "    </tr>\n",
       "    <tr>\n",
       "      <th>4</th>\n",
       "      <td>residual sugar</td>\n",
       "      <td>2.567104</td>\n",
       "      <td>2.519430</td>\n",
       "      <td>2.049401</td>\n",
       "      <td>0.987915</td>\n",
       "      <td>0.975977</td>\n",
       "      <td>5.518200</td>\n",
       "      <td>1.896330</td>\n",
       "      <td>2.519430</td>\n",
       "      <td>3.220873</td>\n",
       "      <td>1.324544</td>\n",
       "      <td>0.132638</td>\n",
       "      <td>-0.042980</td>\n",
       "    </tr>\n",
       "    <tr>\n",
       "      <th>5</th>\n",
       "      <td>chlorides</td>\n",
       "      <td>0.081195</td>\n",
       "      <td>0.082167</td>\n",
       "      <td>0.070574</td>\n",
       "      <td>0.020111</td>\n",
       "      <td>0.000404</td>\n",
       "      <td>0.125635</td>\n",
       "      <td>0.066574</td>\n",
       "      <td>0.082167</td>\n",
       "      <td>0.095312</td>\n",
       "      <td>0.028738</td>\n",
       "      <td>-0.051319</td>\n",
       "      <td>-0.246508</td>\n",
       "    </tr>\n",
       "    <tr>\n",
       "      <th>6</th>\n",
       "      <td>free sulfur dioxide</td>\n",
       "      <td>14.907679</td>\n",
       "      <td>14.860346</td>\n",
       "      <td>16.593818</td>\n",
       "      <td>4.888100</td>\n",
       "      <td>23.893519</td>\n",
       "      <td>27.267847</td>\n",
       "      <td>11.426717</td>\n",
       "      <td>14.860346</td>\n",
       "      <td>18.313098</td>\n",
       "      <td>6.886381</td>\n",
       "      <td>0.007130</td>\n",
       "      <td>-0.364964</td>\n",
       "    </tr>\n",
       "    <tr>\n",
       "      <th>7</th>\n",
       "      <td>total sulfur dioxide</td>\n",
       "      <td>40.290150</td>\n",
       "      <td>40.190000</td>\n",
       "      <td>40.610000</td>\n",
       "      <td>9.965767</td>\n",
       "      <td>99.316519</td>\n",
       "      <td>66.810000</td>\n",
       "      <td>33.785000</td>\n",
       "      <td>40.190000</td>\n",
       "      <td>47.022500</td>\n",
       "      <td>13.237500</td>\n",
       "      <td>-0.024060</td>\n",
       "      <td>0.063950</td>\n",
       "    </tr>\n",
       "    <tr>\n",
       "      <th>8</th>\n",
       "      <td>density</td>\n",
       "      <td>0.995925</td>\n",
       "      <td>0.996000</td>\n",
       "      <td>0.996100</td>\n",
       "      <td>0.002020</td>\n",
       "      <td>0.000004</td>\n",
       "      <td>0.013800</td>\n",
       "      <td>0.994600</td>\n",
       "      <td>0.996000</td>\n",
       "      <td>0.997200</td>\n",
       "      <td>0.002600</td>\n",
       "      <td>-0.076883</td>\n",
       "      <td>0.016366</td>\n",
       "    </tr>\n",
       "    <tr>\n",
       "      <th>9</th>\n",
       "      <td>pH</td>\n",
       "      <td>3.303610</td>\n",
       "      <td>3.300000</td>\n",
       "      <td>3.340000</td>\n",
       "      <td>0.104875</td>\n",
       "      <td>0.010999</td>\n",
       "      <td>0.740000</td>\n",
       "      <td>3.230000</td>\n",
       "      <td>3.300000</td>\n",
       "      <td>3.370000</td>\n",
       "      <td>0.140000</td>\n",
       "      <td>0.147673</td>\n",
       "      <td>0.080910</td>\n",
       "    </tr>\n",
       "    <tr>\n",
       "      <th>10</th>\n",
       "      <td>sulphates</td>\n",
       "      <td>0.598390</td>\n",
       "      <td>0.595000</td>\n",
       "      <td>0.590000</td>\n",
       "      <td>0.100819</td>\n",
       "      <td>0.010164</td>\n",
       "      <td>0.670000</td>\n",
       "      <td>0.530000</td>\n",
       "      <td>0.595000</td>\n",
       "      <td>0.670000</td>\n",
       "      <td>0.140000</td>\n",
       "      <td>0.149199</td>\n",
       "      <td>0.064819</td>\n",
       "    </tr>\n",
       "    <tr>\n",
       "      <th>11</th>\n",
       "      <td>alcohol</td>\n",
       "      <td>10.592280</td>\n",
       "      <td>10.610000</td>\n",
       "      <td>10.310000</td>\n",
       "      <td>1.510706</td>\n",
       "      <td>2.282233</td>\n",
       "      <td>8.990000</td>\n",
       "      <td>9.560000</td>\n",
       "      <td>10.610000</td>\n",
       "      <td>11.622500</td>\n",
       "      <td>2.062500</td>\n",
       "      <td>-0.018991</td>\n",
       "      <td>-0.131732</td>\n",
       "    </tr>\n",
       "  </tbody>\n",
       "</table>\n",
       "</div>"
      ],
      "text/plain": [
       "                    Name       Mean     Median      Modus  Standar deviasi  \\\n",
       "1          fixed acidity   7.152530   7.150000   6.540000         1.201598   \n",
       "2       volatile acidity   0.520839   0.524850   0.554600         0.095848   \n",
       "3            citric acid   0.270517   0.272200   0.301900         0.049098   \n",
       "4         residual sugar   2.567104   2.519430   2.049401         0.987915   \n",
       "5              chlorides   0.081195   0.082167   0.070574         0.020111   \n",
       "6    free sulfur dioxide  14.907679  14.860346  16.593818         4.888100   \n",
       "7   total sulfur dioxide  40.290150  40.190000  40.610000         9.965767   \n",
       "8                density   0.995925   0.996000   0.996100         0.002020   \n",
       "9                     pH   3.303610   3.300000   3.340000         0.104875   \n",
       "10             sulphates   0.598390   0.595000   0.590000         0.100819   \n",
       "11               alcohol  10.592280  10.610000  10.310000         1.510706   \n",
       "\n",
       "     Variansi      Range         Q1         Q2         Q3  \\\n",
       "1    1.443837   8.170000   6.377500   7.150000   8.000000   \n",
       "2    0.009187   0.665200   0.456100   0.524850   0.585375   \n",
       "3    0.002411   0.292900   0.237800   0.272200   0.302325   \n",
       "4    0.975977   5.518200   1.896330   2.519430   3.220873   \n",
       "5    0.000404   0.125635   0.066574   0.082167   0.095312   \n",
       "6   23.893519  27.267847  11.426717  14.860346  18.313098   \n",
       "7   99.316519  66.810000  33.785000  40.190000  47.022500   \n",
       "8    0.000004   0.013800   0.994600   0.996000   0.997200   \n",
       "9    0.010999   0.740000   3.230000   3.300000   3.370000   \n",
       "10   0.010164   0.670000   0.530000   0.595000   0.670000   \n",
       "11   2.282233   8.990000   9.560000  10.610000  11.622500   \n",
       "\n",
       "    Jarak Antar Kuartil  Skewness  Kurtosis  \n",
       "1              1.622500 -0.028879 -0.019292  \n",
       "2              0.129275 -0.197699  0.161853  \n",
       "3              0.064525 -0.045576 -0.104679  \n",
       "4              1.324544  0.132638 -0.042980  \n",
       "5              0.028738 -0.051319 -0.246508  \n",
       "6              6.886381  0.007130 -0.364964  \n",
       "7             13.237500 -0.024060  0.063950  \n",
       "8              0.002600 -0.076883  0.016366  \n",
       "9              0.140000  0.147673  0.080910  \n",
       "10             0.140000  0.149199  0.064819  \n",
       "11             2.062500 -0.018991 -0.131732  "
      ]
     },
     "execution_count": 3,
     "metadata": {},
     "output_type": "execute_result"
    }
   ],
   "source": [
    "df_result = pd.DataFrame()\n",
    "counter = 1\n",
    "for col in df.columns.drop('quality'):\n",
    "    df_each = pd.DataFrame({\n",
    "        'Name': col,\n",
    "        'Mean': df[col].mean(),\n",
    "        'Median': df[col].median(),\n",
    "        'Modus': df[col].value_counts().idxmax(),\n",
    "        'Standar deviasi': df[col].std(),\n",
    "        'Variansi': df[col].var(),\n",
    "        'Range': df[col].max() - df[col].min(),\n",
    "        'Q1': df[col].quantile(0.25),\n",
    "        'Q2': df[col].quantile(0.5),\n",
    "        'Q3': df[col].quantile(0.75),\n",
    "        'Jarak Antar Kuartil': df[col].quantile(0.75) - df[col].quantile(0.25),\n",
    "        'Skewness': df[col].skew(),\n",
    "        'Kurtosis': df[col].kurt()\n",
    "    }, index=[counter])\n",
    "    counter += 1\n",
    "\n",
    "    df_result = pd.concat([df_result, df_each])\n",
    "\n",
    "df_result"
   ]
  },
  {
   "cell_type": "code",
   "execution_count": null,
   "metadata": {
    "datalore": {
     "hide_input_from_viewers": true,
     "hide_output_from_viewers": true,
     "node_id": "bRVApwQ90FRwygPNTBGvQT",
     "type": "CODE"
    }
   },
   "outputs": [],
   "source": []
  },
  {
   "attachments": {},
   "cell_type": "markdown",
   "metadata": {
    "datalore": {
     "hide_input_from_viewers": false,
     "hide_output_from_viewers": false,
     "node_id": "IqQ3WVdsbtjyiohTfIPTgc",
     "report_properties": {
      "rowId": "96ilHgqSaPQMu2xoedxgbG"
     },
     "type": "MD"
    }
   },
   "source": [
    "# Soal 2\n",
    "Menampilkan visualisasi plot distribusi dalam bentuk histogram dan boxplot untuk setiap kolom"
   ]
  },
  {
   "cell_type": "code",
   "execution_count": 4,
   "metadata": {
    "datalore": {
     "hide_input_from_viewers": false,
     "hide_output_from_viewers": false,
     "node_id": "l5X34H1WDdxpoKV59bEmsI",
     "report_properties": {
      "rowId": "JBv4p2gFHANe4BAD83k15j"
     },
     "type": "CODE"
    }
   },
   "outputs": [],
   "source": [
    "import pandas as pd\n",
    "import matplotlib.pyplot as plt"
   ]
  },
  {
   "cell_type": "code",
   "execution_count": 5,
   "metadata": {
    "datalore": {
     "hide_input_from_viewers": false,
     "hide_output_from_viewers": false,
     "node_id": "a54QrsALhDcSwS2ufDvZEs",
     "report_properties": {
      "rowId": "X8xPxNH0qqRcBJwtZdZl7L"
     },
     "type": "CODE"
    }
   },
   "outputs": [],
   "source": [
    "df = pd.read_csv(\"anggur.csv\")"
   ]
  },
  {
   "attachments": {},
   "cell_type": "markdown",
   "metadata": {
    "datalore": {
     "hide_input_from_viewers": false,
     "hide_output_from_viewers": false,
     "node_id": "YmKHkkSmvm1muV3N4BEc7U",
     "report_properties": {
      "rowId": "cTIfGYld6T0JpP2rBhBrid"
     },
     "type": "MD"
    }
   },
   "source": [
    "## Fixed Acidity"
   ]
  },
  {
   "cell_type": "code",
   "execution_count": 6,
   "metadata": {
    "datalore": {
     "hide_input_from_viewers": false,
     "hide_output_from_viewers": false,
     "node_id": "4DjdYZlkWND6FXp7ZYnc1J",
     "report_properties": {
      "rowId": "6OKxRae6w88urmZLyp9zo2"
     },
     "type": "CODE"
    }
   },
   "outputs": [
    {
     "data": {
      "image/png": "[encoded data removed]",
      "text/plain": [
       "<Figure size 864x432 with 1 Axes>"
      ]
     },
     "metadata": {
      "needs_background": "light"
     },
     "output_type": "display_data"
    },
    {
     "data": {
      "image/png": "[encoded data removed]",
      "text/plain": [
       "<Figure size 864x432 with 1 Axes>"
      ]
     },
     "metadata": {
      "needs_background": "light"
     },
     "output_type": "display_data"
    }
   ],
   "source": [
    "df.hist(\n",
    "    column=\"fixed acidity\",\n",
    "    bins=30,\n",
    "    figsize=(12, 6),\n",
    "    color=\"blue\",\n",
    "    edgecolor=\"black\",\n",
    ")\n",
    "plt.title(\"Histogram of Fixed Acidity\")\n",
    "plt.xlabel(\"Fixed Acidity\")\n",
    "plt.ylabel(\"Frequency\")\n",
    "plt.show()\n",
    "\n",
    "df.boxplot(\n",
    "    column=\"fixed acidity\",\n",
    "    figsize=(12, 6), \n",
    "    meanline=True,\n",
    "    showmeans=True,\n",
    ")\n",
    "plt.title(\"Boxplot of Fixed Acidity\")\n",
    "plt.ylabel(\"Frequency\")\n",
    "plt.show()  "
   ]
  },
  {
   "attachments": {},
   "cell_type": "markdown",
   "metadata": {
    "datalore": {
     "hide_input_from_viewers": false,
     "hide_output_from_viewers": false,
     "node_id": "GDO7TOUPwa1OxVHqxlFlc9",
     "report_properties": {
      "rowId": "EyTuFqhPdR1Aektu8JLDrx"
     },
     "type": "MD"
    }
   },
   "source": [
    "##### Berdasarkan histogram tersebut terlihat bahwa distribusi Fixed Acidity memiliki distribusi secara normal serta dapat dilihat dari boxplot terapat beberapa outlier dengan di rentang 3.5 - 3.9 dan 10 - 11.5, terlihat median berada di sekitar 7 dengan quartil pertama di sekitar 6 "
   ]
  },
  {
   "attachments": {},
   "cell_type": "markdown",
   "metadata": {
    "datalore": {
     "hide_input_from_viewers": false,
     "hide_output_from_viewers": false,
     "node_id": "mMJBsIYhrD7PqKvsDQlmvB",
     "report_properties": {
      "rowId": "2PcQVU6LOBOiSF4AqLLPQW"
     },
     "type": "MD"
    }
   },
   "source": [
    "## Volatile Acidity"
   ]
  },
  {
   "cell_type": "code",
   "execution_count": 7,
   "metadata": {
    "datalore": {
     "hide_input_from_viewers": false,
     "hide_output_from_viewers": false,
     "node_id": "lEo8oBlGqQz1OsJmPyRqt5",
     "report_properties": {
      "rowId": "2VfWdfxudwNqDQVR9TEESZ"
     },
     "type": "CODE"
    }
   },
   "outputs": [
    {
     "data": {
      "image/png": "[encoded data removed]",
      "text/plain": [
       "<Figure size 864x432 with 1 Axes>"
      ]
     },
     "metadata": {
      "needs_background": "light"
     },
     "output_type": "display_data"
    },
    {
     "data": {
      "image/png": "[encoded data removed]",
      "text/plain": [
       "<Figure size 864x432 with 1 Axes>"
      ]
     },
     "metadata": {
      "needs_background": "light"
     },
     "output_type": "display_data"
    }
   ],
   "source": [
    "df.hist(\n",
    "    column=\"volatile acidity\",\n",
    "    bins=30,\n",
    "    figsize=(12, 6),\n",
    "    color=\"blue\",\n",
    "    edgecolor=\"black\",\n",
    ")\n",
    "plt.title(\"Histogram of Volatile Acidity\")\n",
    "plt.xlabel(\"Volatile Acidity\")\n",
    "plt.ylabel(\"Frequency\")\n",
    "plt.show()\n",
    "\n",
    "df.boxplot(\n",
    "    column=\"volatile acidity\",\n",
    "    figsize=(12, 6), \n",
    "    meanline=True,\n",
    "    showmeans=True,\n",
    ")\n",
    "plt.title(\"Boxplot of Volatile Acidity\")\n",
    "plt.ylabel(\"Frequency\")\n",
    "plt.show()  "
   ]
  },
  {
   "attachments": {},
   "cell_type": "markdown",
   "metadata": {
    "datalore": {
     "hide_input_from_viewers": false,
     "hide_output_from_viewers": false,
     "node_id": "tXzLpKH7Cc86Efh1iaDsjp",
     "report_properties": {
      "rowId": "y9jHzE3XB0eRGa4nT6yESx"
     },
     "type": "MD"
    }
   },
   "source": [
    "##### Berdasarkan histogram tersebut terlihat bahwa distribusi Volatile Acidity memiliki kecenderungan ke arah kiri (Negatively skewed) serta dapat dilihat dari boxplot terapat beberapa outlier di rentang</br> 0.19 - 0.28 dan 0.81 - 0.83, terlihat median berada di sekitar 0.52 dengan quartil peratama di sekitar 0.45"
   ]
  },
  {
   "attachments": {},
   "cell_type": "markdown",
   "metadata": {
    "datalore": {
     "hide_input_from_viewers": false,
     "hide_output_from_viewers": false,
     "node_id": "WrAvYE84SZRg5XqJ4JvMt6",
     "report_properties": {
      "rowId": "5wGusCqdl1QnM8uMGxjgRe"
     },
     "type": "MD"
    }
   },
   "source": [
    "## Citric Acid"
   ]
  },
  {
   "cell_type": "code",
   "execution_count": 8,
   "metadata": {
    "datalore": {
     "hide_input_from_viewers": false,
     "hide_output_from_viewers": false,
     "node_id": "IYNBTMxlJCW2cmcuJtY5zm",
     "report_properties": {
      "rowId": "uQAVj5YGKthe1l7fB6Bmt9"
     },
     "type": "CODE"
    }
   },
   "outputs": [
    {
     "data": {
      "image/png": "[encoded data removed]",
      "text/plain": [
       "<Figure size 864x432 with 1 Axes>"
      ]
     },
     "metadata": {
      "needs_background": "light"
     },
     "output_type": "display_data"
    },
    {
     "data": {
      "image/png": "[encoded data removed]",
      "text/plain": [
       "<Figure size 864x432 with 1 Axes>"
      ]
     },
     "metadata": {
      "needs_background": "light"
     },
     "output_type": "display_data"
    }
   ],
   "source": [
    "df.hist(\n",
    "    column=\"citric acid\",\n",
    "    bins=30,\n",
    "    figsize=(12, 6),\n",
    "    color=\"blue\",\n",
    "    edgecolor=\"black\",\n",
    ")\n",
    "plt.title(\"Histogram of Citric Acid\")\n",
    "plt.xlabel(\"Citric Acid\")\n",
    "plt.ylabel(\"Frequency\")\n",
    "plt.show()\n",
    "\n",
    "df.boxplot(\n",
    "    column=\"citric acid\",\n",
    "    figsize=(12, 6), \n",
    "    meanline=True,\n",
    "    showmeans=True,\n",
    ")\n",
    "plt.title(\"Boxplot of Citric Acid\")\n",
    "plt.ylabel(\"Frequency\")\n",
    "plt.show()  "
   ]
  },
  {
   "attachments": {},
   "cell_type": "markdown",
   "metadata": {
    "datalore": {
     "hide_input_from_viewers": false,
     "hide_output_from_viewers": false,
     "node_id": "mZJ50gMFJuTdh3ozm5WwbV",
     "report_properties": {
      "rowId": "QfifiTvwyrsuZ2p9bmX8AA"
     },
     "type": "MD"
    }
   },
   "source": [
    "##### Berdasarkan histogram tersebut terlihat bahwa distribusi Citric Acid memiliki distribusi secara normal serta dapat dilihat dari boxplot terapat beberapa outlier di rentang 0.0 - 0.14 dan 0.4 - 0.45, terlihat median berada di sekitar 0.52 dengan quartil peratama di sekitar 0.2"
   ]
  },
  {
   "attachments": {},
   "cell_type": "markdown",
   "metadata": {
    "datalore": {
     "hide_input_from_viewers": false,
     "hide_output_from_viewers": false,
     "node_id": "nVr2n7fe9b9hC3V5yMPMQw",
     "report_properties": {
      "rowId": "KkrEh6ap7av4cSbybHiMHJ"
     },
     "type": "MD"
    }
   },
   "source": [
    "## Residual Sugar"
   ]
  },
  {
   "cell_type": "code",
   "execution_count": 9,
   "metadata": {
    "datalore": {
     "hide_input_from_viewers": false,
     "hide_output_from_viewers": false,
     "node_id": "v3tPZhnVa8fBDkNjo4C01G",
     "report_properties": {
      "rowId": "yci12Dy5WPeL3um1Lor58t"
     },
     "type": "CODE"
    }
   },
   "outputs": [
    {
     "data": {
      "image/png": "[encoded data removed]",
      "text/plain": [
       "<Figure size 864x432 with 1 Axes>"
      ]
     },
     "metadata": {
      "needs_background": "light"
     },
     "output_type": "display_data"
    },
    {
     "data": {
      "image/png": "[encoded data removed]",
      "text/plain": [
       "<Figure size 864x432 with 1 Axes>"
      ]
     },
     "metadata": {
      "needs_background": "light"
     },
     "output_type": "display_data"
    }
   ],
   "source": [
    "df.hist(\n",
    "    column=\"residual sugar\",\n",
    "    bins=30,\n",
    "    figsize=(12, 6),\n",
    "    color=\"blue\",\n",
    "    edgecolor=\"black\",\n",
    ")\n",
    "plt.title(\"Histogram of Residual Sugar\")\n",
    "plt.xlabel(\"Residual Sugar\")\n",
    "plt.ylabel(\"Frequency\")\n",
    "plt.show()\n",
    "\n",
    "df.boxplot(\n",
    "    column=\"residual sugar\",\n",
    "    figsize=(12, 6), \n",
    "    meanline=True,\n",
    "    showmeans=True,\n",
    ")\n",
    "plt.title(\"Boxplot of Residual Sugar\")\n",
    "plt.ylabel(\"Frequency\")\n",
    "plt.show()  "
   ]
  },
  {
   "attachments": {},
   "cell_type": "markdown",
   "metadata": {
    "datalore": {
     "hide_input_from_viewers": false,
     "hide_output_from_viewers": false,
     "node_id": "7FHP85unONMmRDxBkD63AT",
     "report_properties": {
      "rowId": "b95khvEguQNzBcsiYVQw5t"
     },
     "type": "MD"
    }
   },
   "source": [
    "##### Berdasarkan histogram tersebut terlihat bahwa distribusi Residual Sugar memiliki distribusi secara normal serta dapat dilihat dari boxplot terapat beberapa outlier di rentang 5.1 - 5.8, terlihat median berada di sekitar 2.5 dengan quartil peratama di sekitar 1.89"
   ]
  },
  {
   "attachments": {},
   "cell_type": "markdown",
   "metadata": {
    "datalore": {
     "hide_input_from_viewers": false,
     "hide_output_from_viewers": false,
     "node_id": "BGCGG0Tu04ciVoHIszvVfz",
     "report_properties": {
      "rowId": "COrX4Qe9qC1SRQy6is6nLI"
     },
     "type": "MD"
    }
   },
   "source": [
    "## Chlorides"
   ]
  },
  {
   "cell_type": "code",
   "execution_count": 10,
   "metadata": {
    "datalore": {
     "hide_input_from_viewers": false,
     "hide_output_from_viewers": false,
     "node_id": "foLzuONOUMHGWuilhefD3Y",
     "report_properties": {
      "rowId": "K75yQkH9yOysjMnlCQ3KBz"
     },
     "type": "CODE"
    }
   },
   "outputs": [
    {
     "data": {
      "image/png": "[encoded data removed]",
      "text/plain": [
       "<Figure size 864x432 with 1 Axes>"
      ]
     },
     "metadata": {
      "needs_background": "light"
     },
     "output_type": "display_data"
    },
    {
     "data": {
      "image/png": "[encoded data removed]",
      "text/plain": [
       "<Figure size 864x432 with 1 Axes>"
      ]
     },
     "metadata": {
      "needs_background": "light"
     },
     "output_type": "display_data"
    }
   ],
   "source": [
    "df.hist(\n",
    "    column=\"chlorides\",\n",
    "    bins=30,\n",
    "    figsize=(12, 6),\n",
    "    color=\"blue\",\n",
    "    edgecolor=\"black\",\n",
    ")\n",
    "plt.title(\"Histogram of Chlorides\")\n",
    "plt.xlabel(\"Chlorides\")\n",
    "plt.ylabel(\"Frequency\")\n",
    "plt.show()\n",
    "\n",
    "df.boxplot(\n",
    "    column=\"chlorides\",\n",
    "    figsize=(12, 6), \n",
    "    meanline=True,\n",
    "    showmeans=True,\n",
    ")\n",
    "plt.title(\"Boxplot of Chlorides\")\n",
    "plt.ylabel(\"Frequency\")\n",
    "plt.show()  "
   ]
  },
  {
   "attachments": {},
   "cell_type": "markdown",
   "metadata": {
    "datalore": {
     "hide_input_from_viewers": false,
     "hide_output_from_viewers": false,
     "node_id": "2G3ESy7BVBMhalHSEXtlbi",
     "report_properties": {
      "rowId": "pSM3mOD2fHZvcL3IQXUGTx"
     },
     "type": "MD"
    }
   },
   "source": [
    "##### Berdasarkan histogram tersebut terlihat bahwa distribusi Chlorides memiliki kecenderungan ke arah kiri (Negatively skewed) serta dapat dilihat dari boxplot terapat beberapa outlier di rentang</br> 0.01 - 0.22 dan 0.14 - 0.15, terlihat median berada di sekitar 0.082 dengan quartil peratama di sekitar 0.06"
   ]
  },
  {
   "attachments": {},
   "cell_type": "markdown",
   "metadata": {
    "datalore": {
     "hide_input_from_viewers": false,
     "hide_output_from_viewers": false,
     "node_id": "TxthocKbjWv4T3Occ8ZdXa",
     "report_properties": {
      "rowId": "nkDsBw3fMy8U9v3E7WvinF"
     },
     "type": "MD"
    }
   },
   "source": [
    "## Free Sulfur Dioxide"
   ]
  },
  {
   "cell_type": "code",
   "execution_count": 11,
   "metadata": {
    "datalore": {
     "hide_input_from_viewers": false,
     "hide_output_from_viewers": false,
     "node_id": "C7U1ZIBNitCLv4jzu2tsUl",
     "report_properties": {
      "rowId": "TrOBb8JKtmjHUtjOyS2b5L"
     },
     "type": "CODE"
    }
   },
   "outputs": [
    {
     "data": {
      "image/png": "[encoded data removed]",
      "text/plain": [
       "<Figure size 864x432 with 1 Axes>"
      ]
     },
     "metadata": {
      "needs_background": "light"
     },
     "output_type": "display_data"
    },
    {
     "data": {
      "image/png": "[encoded data removed]",
      "text/plain": [
       "<Figure size 864x432 with 1 Axes>"
      ]
     },
     "metadata": {
      "needs_background": "light"
     },
     "output_type": "display_data"
    }
   ],
   "source": [
    "df.hist(\n",
    "    column=\"free sulfur dioxide\",\n",
    "    bins=30,\n",
    "    figsize=(12, 6),\n",
    "    color=\"blue\",\n",
    "    edgecolor=\"black\",\n",
    ")\n",
    "plt.title(\"Histogram of Free Sulfur Dioxide\")\n",
    "plt.xlabel(\"Free Sulfur Dioxide\")\n",
    "plt.ylabel(\"Frequency\")\n",
    "plt.show()\n",
    "\n",
    "df.boxplot(\n",
    "    column=\"free sulfur dioxide\",\n",
    "    figsize=(12, 6), \n",
    "    meanline=True,\n",
    "    showmeans=True,\n",
    ")\n",
    "plt.title(\"Boxplot of Free Sulfur Dioxide\")\n",
    "plt.ylabel(\"Frequency\")\n",
    "plt.show()  "
   ]
  },
  {
   "attachments": {},
   "cell_type": "markdown",
   "metadata": {
    "datalore": {
     "hide_input_from_viewers": false,
     "hide_output_from_viewers": false,
     "node_id": "eEpjGPIaUWEhktzGuYZcWU",
     "report_properties": {
      "rowId": "ivgwJAiuxXJmwQdgDDAiZb"
     },
     "type": "MD"
    }
   },
   "source": [
    "##### Berdasarkan histogram tersebut terlihat bahwa distribusi Free Sulfur Dioxide memiliki kecenderungan ke arah kiri (Negatively skewed) serta dapat dilihat dari boxplot terapat beberapa outlier di rentang</br> 0.0 - 2, terlihat median berada di sekitar 15 dengan quartil peratama di sekitar 11.4"
   ]
  },
  {
   "attachments": {},
   "cell_type": "markdown",
   "metadata": {
    "datalore": {
     "hide_input_from_viewers": false,
     "hide_output_from_viewers": false,
     "node_id": "b9QxtUa6UDhfpbinfcpAVP",
     "report_properties": {
      "rowId": "udSc42YzGzGwgPqOmhsyvR"
     },
     "type": "MD"
    }
   },
   "source": [
    "## Total Sulfur Dioxide"
   ]
  },
  {
   "cell_type": "code",
   "execution_count": 12,
   "metadata": {
    "datalore": {
     "hide_input_from_viewers": false,
     "hide_output_from_viewers": false,
     "node_id": "1PQxTQYaVTCW7Jivc76RWb",
     "report_properties": {
      "rowId": "JBA1ifJcxFjz3i56kUULLV"
     },
     "type": "CODE"
    }
   },
   "outputs": [
    {
     "data": {
      "image/png": "[encoded data removed]",
      "text/plain": [
       "<Figure size 864x432 with 1 Axes>"
      ]
     },
     "metadata": {
      "needs_background": "light"
     },
     "output_type": "display_data"
    },
    {
     "data": {
      "image/png": "[encoded data removed]",
      "text/plain": [
       "<Figure size 864x432 with 1 Axes>"
      ]
     },
     "metadata": {
      "needs_background": "light"
     },
     "output_type": "display_data"
    }
   ],
   "source": [
    "df.hist(\n",
    "    column=\"total sulfur dioxide\",\n",
    "    bins=30,\n",
    "    figsize=(12, 6),\n",
    "    color=\"blue\",\n",
    "    edgecolor=\"black\",\n",
    ")\n",
    "plt.title(\"Histogram of Total Sulfur Dioxide\")\n",
    "plt.xlabel(\"Total Sulfur Dioxide\")\n",
    "plt.ylabel(\"Frequency\")\n",
    "plt.show()\n",
    "\n",
    "df.boxplot(\n",
    "    column=\"total sulfur dioxide\",\n",
    "    figsize=(12, 6), \n",
    "    meanline=True,\n",
    "    showmeans=True,\n",
    ")\n",
    "plt.title(\"Boxplot of Total Sulfur Dioxide\")\n",
    "plt.ylabel(\"Frequency\")\n",
    "plt.show()  "
   ]
  },
  {
   "attachments": {},
   "cell_type": "markdown",
   "metadata": {
    "datalore": {
     "hide_input_from_viewers": false,
     "hide_output_from_viewers": false,
     "node_id": "PgsLF3hvhDrfvwzqoIv8ah",
     "report_properties": {
      "rowId": "tSGEHJZ5Dt0lmSFi4TBZQi"
     },
     "type": "MD"
    }
   },
   "source": [
    "##### Berdasarkan histogram tersebut terlihat bahwa distribusi Total Sulfur Dioxide memiliki kecenderungan ke arah kiri (Negatively skewed) serta dapat dilihat dari boxplot terapat beberapa outlier di rentang</br> 1 - 15 dan 65 - 70, terlihat median berada di sekitar 40 dengan quartil peratama di sekitar 33.78"
   ]
  },
  {
   "cell_type": "code",
   "execution_count": 13,
   "metadata": {
    "datalore": {
     "hide_input_from_viewers": false,
     "hide_output_from_viewers": false,
     "node_id": "RCHUqA20snoQ1LxcSKNuVl",
     "report_properties": {
      "rowId": "Z9qhRd7XJCKJQeAbR6RD4Y"
     },
     "type": "CODE"
    }
   },
   "outputs": [
    {
     "data": {
      "image/png": "[encoded data removed]",
      "text/plain": [
       "<Figure size 864x432 with 1 Axes>"
      ]
     },
     "metadata": {
      "needs_background": "light"
     },
     "output_type": "display_data"
    },
    {
     "data": {
      "image/png": "[encoded data removed]",
      "text/plain": [
       "<Figure size 864x432 with 1 Axes>"
      ]
     },
     "metadata": {
      "needs_background": "light"
     },
     "output_type": "display_data"
    }
   ],
   "source": [
    "df.hist(\n",
    "    column=\"density\",\n",
    "    bins=30,\n",
    "    figsize=(12, 6),\n",
    "    color=\"blue\",\n",
    "    edgecolor=\"black\",\n",
    ")\n",
    "plt.title(\"Histogram of Density\")\n",
    "plt.xlabel(\"Density\")\n",
    "plt.ylabel(\"Frequency\")\n",
    "plt.show()\n",
    "\n",
    "df.boxplot(\n",
    "    column=\"density\",\n",
    "    figsize=(12, 6), \n",
    "    meanline=True,\n",
    "    showmeans=True,\n",
    ")\n",
    "plt.title(\"Boxplot of Density\")\n",
    "plt.ylabel(\"Frequency\")\n",
    "plt.show()  "
   ]
  },
  {
   "attachments": {},
   "cell_type": "markdown",
   "metadata": {
    "datalore": {
     "hide_input_from_viewers": false,
     "hide_output_from_viewers": false,
     "node_id": "mG3nd3vt0cfnauFW0e6Ubj",
     "report_properties": {
      "rowId": "vBElOovRWyhfO1UwltaR3a"
     },
     "type": "MD"
    }
   },
   "source": [
    "##### Berdasarkan histogram tersebut terlihat bahwa distribusi Density memiliki distribusi secara normal serta dapat dilihat dari boxplot terapat beberapa outlier di rentang</br> 0.988 - 0.991 dan 1.001 - 1.003, terlihat median berada di sekitar 0.996 dengan quartil peratama di sekitar 0.99"
   ]
  },
  {
   "cell_type": "code",
   "execution_count": 14,
   "metadata": {
    "datalore": {
     "hide_input_from_viewers": false,
     "hide_output_from_viewers": false,
     "node_id": "RLEEnPsBL88lcBX2lTUjYL",
     "report_properties": {
      "rowId": "DJnX260MCVRIxiwj5iIMRw"
     },
     "type": "CODE"
    }
   },
   "outputs": [
    {
     "data": {
      "image/png": "[encoded data removed]",
      "text/plain": [
       "<Figure size 864x432 with 1 Axes>"
      ]
     },
     "metadata": {
      "needs_background": "light"
     },
     "output_type": "display_data"
    },
    {
     "data": {
      "image/png": "[encoded data removed]",
      "text/plain": [
       "<Figure size 864x432 with 1 Axes>"
      ]
     },
     "metadata": {
      "needs_background": "light"
     },
     "output_type": "display_data"
    }
   ],
   "source": [
    "df.hist(\n",
    "    column=\"pH\",\n",
    "    bins=30,\n",
    "    figsize=(12, 6),\n",
    "    color=\"blue\",\n",
    "    edgecolor=\"black\",\n",
    ")\n",
    "plt.title(\"Histogram of pH\")\n",
    "plt.xlabel(\"pH\")\n",
    "plt.ylabel(\"Frequency\")\n",
    "plt.show()\n",
    "\n",
    "df.boxplot(\n",
    "    column=\"pH\",\n",
    "    figsize=(12, 6), \n",
    "    meanline=True,\n",
    "    showmeans=True,\n",
    ")\n",
    "plt.title(\"Boxplot of pH\")\n",
    "plt.ylabel(\"Frequency\")\n",
    "plt.show()  "
   ]
  },
  {
   "attachments": {},
   "cell_type": "markdown",
   "metadata": {
    "datalore": {
     "hide_input_from_viewers": false,
     "hide_output_from_viewers": false,
     "node_id": "sMnlcrZn05wHiea3CxHOIP",
     "report_properties": {
      "rowId": "KgFlaTScRpFUI7C4HGcyLU"
     },
     "type": "MD"
    }
   },
   "source": [
    "##### Berdasarkan histogram tersebut terlihat bahwa distribusi pH memiliki kecenderungan ke arah kanan (Positively skewed) serta dapat dilihat dari boxplot terapat beberapa outlier di rentang</br> 2.8 - 3.05 dan 3.6 - 3.71, terlihat median berada di sekitar 3.33 dengan quartil peratama di sekitar 3.23"
   ]
  },
  {
   "cell_type": "code",
   "execution_count": 15,
   "metadata": {
    "datalore": {
     "hide_input_from_viewers": false,
     "hide_output_from_viewers": false,
     "node_id": "M4yAth4ZR0EaCnZjUhBTEQ",
     "report_properties": {
      "rowId": "it0k0CC8p47JYewKWkwOLm"
     },
     "type": "CODE"
    }
   },
   "outputs": [
    {
     "data": {
      "image/png": "[encoded data removed]",
      "text/plain": [
       "<Figure size 864x432 with 1 Axes>"
      ]
     },
     "metadata": {
      "needs_background": "light"
     },
     "output_type": "display_data"
    },
    {
     "data": {
      "image/png": "[encoded data removed]",
      "text/plain": [
       "<Figure size 864x432 with 1 Axes>"
      ]
     },
     "metadata": {
      "needs_background": "light"
     },
     "output_type": "display_data"
    }
   ],
   "source": [
    "df.hist(\n",
    "    column=\"sulphates\",\n",
    "    bins=30,\n",
    "    figsize=(12, 6),\n",
    "    color=\"blue\",\n",
    "    edgecolor=\"black\",\n",
    ")\n",
    "plt.title(\"Histogram of sulphates\")\n",
    "plt.xlabel(\"Sulphates\")\n",
    "plt.ylabel(\"Frequency\")\n",
    "plt.show()\n",
    "\n",
    "df.boxplot(\n",
    "    column=\"sulphates\",\n",
    "    figsize=(12, 6), \n",
    "    meanline=True,\n",
    "    showmeans=True,\n",
    ")\n",
    "plt.title(\"Boxplot of Sulphates\")\n",
    "plt.ylabel(\"Frequency\")\n",
    "plt.show()  "
   ]
  },
  {
   "attachments": {},
   "cell_type": "markdown",
   "metadata": {
    "datalore": {
     "hide_input_from_viewers": false,
     "hide_output_from_viewers": false,
     "node_id": "Kef1p5h7eq10fq35hg4WYu",
     "report_properties": {
      "rowId": "NhQLglf33HTYqMwAm06qh5"
     },
     "type": "MD"
    }
   },
   "source": [
    "##### Berdasarkan histogram tersebut terlihat bahwa distribusi Shulpates memiliki kecenderungan ke arah kanan (Positively skewed) serta dapat dilihat dari boxplot terapat beberapa outlier di rentang</br> 0.29 dan 0.89 - 0.98, terlihat median berada di sekitar 0.6 dengan quartil peratama di sekitar 0.53"
   ]
  },
  {
   "cell_type": "code",
   "execution_count": 16,
   "metadata": {
    "datalore": {
     "hide_input_from_viewers": false,
     "hide_output_from_viewers": false,
     "node_id": "K7l5RoxOXJSJp6NhE6jKpL",
     "report_properties": {
      "rowId": "6mAbYb616fWbF48xfuPOoU"
     },
     "type": "CODE"
    }
   },
   "outputs": [
    {
     "data": {
      "image/png": "[encoded data removed]",
      "text/plain": [
       "<Figure size 864x432 with 1 Axes>"
      ]
     },
     "metadata": {
      "needs_background": "light"
     },
     "output_type": "display_data"
    },
    {
     "data": {
      "image/png": "[encoded data removed]",
      "text/plain": [
       "<Figure size 864x432 with 1 Axes>"
      ]
     },
     "metadata": {
      "needs_background": "light"
     },
     "output_type": "display_data"
    }
   ],
   "source": [
    "df.hist(\n",
    "    column=\"alcohol\",\n",
    "    bins=30,\n",
    "    figsize=(12, 6),\n",
    "    color=\"blue\",\n",
    "    edgecolor=\"black\",\n",
    ")\n",
    "plt.title(\"Histogram of Alcohol\")\n",
    "plt.xlabel(\"Alcohol\")\n",
    "plt.ylabel(\"Frequency\")\n",
    "plt.show()\n",
    "\n",
    "df.boxplot(\n",
    "    column=\"alcohol\",\n",
    "    figsize=(12, 6), \n",
    "    meanline=True,\n",
    "    showmeans=True,\n",
    ")\n",
    "plt.title(\"Boxplot of Alcohol\")\n",
    "plt.ylabel(\"Frequency\")\n",
    "plt.show()  "
   ]
  },
  {
   "attachments": {},
   "cell_type": "markdown",
   "metadata": {
    "datalore": {
     "hide_input_from_viewers": false,
     "hide_output_from_viewers": false,
     "node_id": "NEAiVXfLvgXFqTk9Ldwx0H",
     "report_properties": {
      "rowId": "4jKojmCICY5MeWI6YkJikK"
     },
     "type": "MD"
    }
   },
   "source": [
    "##### Berdasarkan histogram tersebut terlihat bahwa distribusi Alcohol memiliki distribusi secara normal serta dapat dilihat dari boxplot terapat beberapa outlier di rentang</br> 6.0 - 6.5 dan 15, terlihat median berada di sekitar 10.5 dengan quartil peratama di sekitar 9.56"
   ]
  },
  {
   "attachments": {},
   "cell_type": "markdown",
   "metadata": {
    "datalore": {
     "hide_input_from_viewers": false,
     "hide_output_from_viewers": false,
     "node_id": "PkxYjvn0Y2Rz5axat6oZOR",
     "report_properties": {
      "rowId": "p89Z6dOWDhEsKF3n8vHp2Y"
     },
     "type": "MD"
    }
   },
   "source": [
    "# Soal 3\n",
    "Menentukan setiap kolom numerik berdistribusi normal atau tidak. Gunakan normality test\n",
    "yang dikaitkan dengan histogram plot."
   ]
  },
  {
   "cell_type": "code",
   "execution_count": 17,
   "metadata": {
    "datalore": {
     "hide_input_from_viewers": false,
     "hide_output_from_viewers": false,
     "node_id": "Z1wiAl93JkQExGTSx2Bt4i",
     "report_properties": {
      "rowId": "uV7DMGhSg68hwhlC1CMwiO"
     },
     "type": "CODE"
    }
   },
   "outputs": [],
   "source": [
    "import pandas as pd\n",
    "import matplotlib.pyplot as plt\n",
    "import seaborn as sns\n",
    "from scipy.stats import shapiro, normaltest"
   ]
  },
  {
   "cell_type": "code",
   "execution_count": 18,
   "metadata": {
    "datalore": {
     "hide_input_from_viewers": false,
     "hide_output_from_viewers": false,
     "node_id": "kyiaXJfTyYiEL2fjPCFp2c",
     "report_properties": {
      "rowId": "AzdtKp3eo0nsyBYSbbzXdP"
     },
     "type": "CODE"
    }
   },
   "outputs": [
    {
     "data": {
      "text/html": [
       "<div>\n",
       "<style scoped>\n",
       "    .dataframe tbody tr th:only-of-type {\n",
       "        vertical-align: middle;\n",
       "    }\n",
       "\n",
       "    .dataframe tbody tr th {\n",
       "        vertical-align: top;\n",
       "    }\n",
       "\n",
       "    .dataframe thead th {\n",
       "        text-align: right;\n",
       "    }\n",
       "</style>\n",
       "<table border=\"1\" class=\"dataframe\">\n",
       "  <thead>\n",
       "    <tr style=\"text-align: right;\">\n",
       "      <th></th>\n",
       "      <th>fixed acidity</th>\n",
       "      <th>volatile acidity</th>\n",
       "      <th>citric acid</th>\n",
       "      <th>residual sugar</th>\n",
       "      <th>chlorides</th>\n",
       "      <th>free sulfur dioxide</th>\n",
       "      <th>total sulfur dioxide</th>\n",
       "      <th>density</th>\n",
       "      <th>pH</th>\n",
       "      <th>sulphates</th>\n",
       "      <th>alcohol</th>\n",
       "      <th>quality</th>\n",
       "    </tr>\n",
       "  </thead>\n",
       "  <tbody>\n",
       "    <tr>\n",
       "      <th>0</th>\n",
       "      <td>5.90</td>\n",
       "      <td>0.4451</td>\n",
       "      <td>0.1813</td>\n",
       "      <td>2.049401</td>\n",
       "      <td>0.070574</td>\n",
       "      <td>16.593818</td>\n",
       "      <td>42.27</td>\n",
       "      <td>0.9982</td>\n",
       "      <td>3.27</td>\n",
       "      <td>0.71</td>\n",
       "      <td>8.64</td>\n",
       "      <td>7</td>\n",
       "    </tr>\n",
       "    <tr>\n",
       "      <th>1</th>\n",
       "      <td>8.40</td>\n",
       "      <td>0.5768</td>\n",
       "      <td>0.2099</td>\n",
       "      <td>3.109590</td>\n",
       "      <td>0.101681</td>\n",
       "      <td>22.555519</td>\n",
       "      <td>16.01</td>\n",
       "      <td>0.9960</td>\n",
       "      <td>3.35</td>\n",
       "      <td>0.57</td>\n",
       "      <td>10.03</td>\n",
       "      <td>8</td>\n",
       "    </tr>\n",
       "    <tr>\n",
       "      <th>2</th>\n",
       "      <td>7.54</td>\n",
       "      <td>0.5918</td>\n",
       "      <td>0.3248</td>\n",
       "      <td>3.673744</td>\n",
       "      <td>0.072416</td>\n",
       "      <td>9.316866</td>\n",
       "      <td>35.52</td>\n",
       "      <td>0.9990</td>\n",
       "      <td>3.31</td>\n",
       "      <td>0.64</td>\n",
       "      <td>9.23</td>\n",
       "      <td>8</td>\n",
       "    </tr>\n",
       "    <tr>\n",
       "      <th>3</th>\n",
       "      <td>5.39</td>\n",
       "      <td>0.4201</td>\n",
       "      <td>0.3131</td>\n",
       "      <td>3.371815</td>\n",
       "      <td>0.072755</td>\n",
       "      <td>18.212300</td>\n",
       "      <td>41.97</td>\n",
       "      <td>0.9945</td>\n",
       "      <td>3.34</td>\n",
       "      <td>0.55</td>\n",
       "      <td>14.07</td>\n",
       "      <td>9</td>\n",
       "    </tr>\n",
       "    <tr>\n",
       "      <th>4</th>\n",
       "      <td>6.51</td>\n",
       "      <td>0.5675</td>\n",
       "      <td>0.1940</td>\n",
       "      <td>4.404723</td>\n",
       "      <td>0.066379</td>\n",
       "      <td>9.360591</td>\n",
       "      <td>46.27</td>\n",
       "      <td>0.9925</td>\n",
       "      <td>3.27</td>\n",
       "      <td>0.45</td>\n",
       "      <td>11.49</td>\n",
       "      <td>8</td>\n",
       "    </tr>\n",
       "    <tr>\n",
       "      <th>...</th>\n",
       "      <td>...</td>\n",
       "      <td>...</td>\n",
       "      <td>...</td>\n",
       "      <td>...</td>\n",
       "      <td>...</td>\n",
       "      <td>...</td>\n",
       "      <td>...</td>\n",
       "      <td>...</td>\n",
       "      <td>...</td>\n",
       "      <td>...</td>\n",
       "      <td>...</td>\n",
       "      <td>...</td>\n",
       "    </tr>\n",
       "    <tr>\n",
       "      <th>995</th>\n",
       "      <td>7.96</td>\n",
       "      <td>0.6046</td>\n",
       "      <td>0.2662</td>\n",
       "      <td>1.592048</td>\n",
       "      <td>0.057555</td>\n",
       "      <td>14.892445</td>\n",
       "      <td>44.61</td>\n",
       "      <td>0.9975</td>\n",
       "      <td>3.35</td>\n",
       "      <td>0.54</td>\n",
       "      <td>10.41</td>\n",
       "      <td>8</td>\n",
       "    </tr>\n",
       "    <tr>\n",
       "      <th>996</th>\n",
       "      <td>8.48</td>\n",
       "      <td>0.4080</td>\n",
       "      <td>0.2227</td>\n",
       "      <td>0.681955</td>\n",
       "      <td>0.051627</td>\n",
       "      <td>23.548965</td>\n",
       "      <td>25.83</td>\n",
       "      <td>0.9972</td>\n",
       "      <td>3.41</td>\n",
       "      <td>0.46</td>\n",
       "      <td>9.91</td>\n",
       "      <td>8</td>\n",
       "    </tr>\n",
       "    <tr>\n",
       "      <th>997</th>\n",
       "      <td>6.11</td>\n",
       "      <td>0.4841</td>\n",
       "      <td>0.3720</td>\n",
       "      <td>2.377267</td>\n",
       "      <td>0.042806</td>\n",
       "      <td>21.624585</td>\n",
       "      <td>48.75</td>\n",
       "      <td>0.9928</td>\n",
       "      <td>3.23</td>\n",
       "      <td>0.55</td>\n",
       "      <td>9.94</td>\n",
       "      <td>7</td>\n",
       "    </tr>\n",
       "    <tr>\n",
       "      <th>998</th>\n",
       "      <td>7.76</td>\n",
       "      <td>0.3590</td>\n",
       "      <td>0.3208</td>\n",
       "      <td>4.294486</td>\n",
       "      <td>0.098276</td>\n",
       "      <td>12.746186</td>\n",
       "      <td>44.53</td>\n",
       "      <td>0.9952</td>\n",
       "      <td>3.30</td>\n",
       "      <td>0.66</td>\n",
       "      <td>9.76</td>\n",
       "      <td>8</td>\n",
       "    </tr>\n",
       "    <tr>\n",
       "      <th>999</th>\n",
       "      <td>5.87</td>\n",
       "      <td>0.5214</td>\n",
       "      <td>0.1883</td>\n",
       "      <td>2.179490</td>\n",
       "      <td>0.052923</td>\n",
       "      <td>16.203864</td>\n",
       "      <td>24.37</td>\n",
       "      <td>0.9983</td>\n",
       "      <td>3.29</td>\n",
       "      <td>0.70</td>\n",
       "      <td>10.17</td>\n",
       "      <td>7</td>\n",
       "    </tr>\n",
       "  </tbody>\n",
       "</table>\n",
       "<p>1000 rows × 12 columns</p>\n",
       "</div>"
      ],
      "text/plain": [
       "     fixed acidity  volatile acidity  citric acid  residual sugar  chlorides  \\\n",
       "0             5.90            0.4451       0.1813        2.049401   0.070574   \n",
       "1             8.40            0.5768       0.2099        3.109590   0.101681   \n",
       "2             7.54            0.5918       0.3248        3.673744   0.072416   \n",
       "3             5.39            0.4201       0.3131        3.371815   0.072755   \n",
       "4             6.51            0.5675       0.1940        4.404723   0.066379   \n",
       "..             ...               ...          ...             ...        ...   \n",
       "995           7.96            0.6046       0.2662        1.592048   0.057555   \n",
       "996           8.48            0.4080       0.2227        0.681955   0.051627   \n",
       "997           6.11            0.4841       0.3720        2.377267   0.042806   \n",
       "998           7.76            0.3590       0.3208        4.294486   0.098276   \n",
       "999           5.87            0.5214       0.1883        2.179490   0.052923   \n",
       "\n",
       "     free sulfur dioxide  total sulfur dioxide  density    pH  sulphates  \\\n",
       "0              16.593818                 42.27   0.9982  3.27       0.71   \n",
       "1              22.555519                 16.01   0.9960  3.35       0.57   \n",
       "2               9.316866                 35.52   0.9990  3.31       0.64   \n",
       "3              18.212300                 41.97   0.9945  3.34       0.55   \n",
       "4               9.360591                 46.27   0.9925  3.27       0.45   \n",
       "..                   ...                   ...      ...   ...        ...   \n",
       "995            14.892445                 44.61   0.9975  3.35       0.54   \n",
       "996            23.548965                 25.83   0.9972  3.41       0.46   \n",
       "997            21.624585                 48.75   0.9928  3.23       0.55   \n",
       "998            12.746186                 44.53   0.9952  3.30       0.66   \n",
       "999            16.203864                 24.37   0.9983  3.29       0.70   \n",
       "\n",
       "     alcohol  quality  \n",
       "0       8.64        7  \n",
       "1      10.03        8  \n",
       "2       9.23        8  \n",
       "3      14.07        9  \n",
       "4      11.49        8  \n",
       "..       ...      ...  \n",
       "995    10.41        8  \n",
       "996     9.91        8  \n",
       "997     9.94        7  \n",
       "998     9.76        8  \n",
       "999    10.17        7  \n",
       "\n",
       "[1000 rows x 12 columns]"
      ]
     },
     "execution_count": 18,
     "metadata": {},
     "output_type": "execute_result"
    }
   ],
   "source": [
    "df = pd.read_csv(\"anggur.csv\")\n",
    "df"
   ]
  },
  {
   "attachments": {},
   "cell_type": "markdown",
   "metadata": {
    "datalore": {
     "hide_input_from_viewers": false,
     "hide_output_from_viewers": false,
     "node_id": "zpGw7xSEkxXhgur12z4WpH",
     "report_properties": {
      "rowId": "XAUFhwk8xxDpR74RLgJvEG"
     },
     "type": "MD"
    }
   },
   "source": [
    "## Metode Pengujian\n",
    "Normalitas distribusi dapat dilihat secara sekilas dari histogram yang dihasilkan. Namun pada percobaan ini juga dilakukan beberapa persamaan yang menguji normalitas data sebagai pembanding\n",
    "\n",
    "### Uji Visual\n",
    "Seperti disebutkan sebelumnya, uji visual dengan melihat histogram dapat dilakukan dengan menyamakan dengan ciri - ciri visual grafik normal, yakni\n",
    "\n",
    "1. Menyerupai lonceng (bel).\n",
    "2. Puncak terdapat pada tengah grafik yang merupakan median dan juga merupakan rata - rata.\n",
    "3. Bentuk grafik simetris pada sebelah kiri dan kanan puncak.\n",
    "4. Luas daerah sebelah kiri dan kanan puncak adalah 50%.\n",
    "\n",
    "Ada pula uji visual telah dilakukan pada nomor sebelumnya sehingga tidak akan dilakukan kembali pada nomor ini\n",
    "\n",
    "### Uji Shapiro-Wilk\n",
    "\n",
    "Uji Shapiro-Wilk adalah sebuah metode atau rumus perhitungan sebaran data yang digunakan untuk menguji normalitas secara efektif dan valid digunakan untuk sampel berjumlah kecil. Metode Shapiro-wilk menggunakan data dasar yang belum diolah dalam tabel frekuensi, diurut, kemudian dibagi dalam dua kelompok untuk dikonversi dalam Shapiro-Wilk. Setelah itu dilakukan transformasi dalam nilai Z untuk mendapatkan luasan kurva normal.\n",
    "\n",
    "Persamaan yang digunakan pada uji shapiro-wilk adalah sebagai berikut:\n",
    "        $$T = \\frac{\\left(\\sum_{i=1}^{n}  a_{i} x_{\\left ( i \\right )} \\right)^{2} }{\\sum_{i=1}^{n} \\left ( x_{i} - \\bar{x} \\right )^{2}} $$\n",
    "\n",
    "dengan keterangan\n",
    "\n",
    "$x_{n}$ adalah angka ke n terkecil pada data\n",
    "\n",
    "$a_{n}$ adalah koefisien tes Shapiro-Wilk ke n\n",
    "\n",
    "Hasil tes diuji dilakukan dengan signifikansi $ \\alpha = 0.05$, jika nilai $p$ yang didapatkan kurang dari alpha, maka $H_{0}$ ditolak dan distribusi tidak normal\n",
    "\n",
    "Tes shapiro-wilk memiliki ketelitian tinggi untuk data yang berjumlah sedikit (kira - kira $x < 2000$)"
   ]
  },
  {
   "attachments": {},
   "cell_type": "markdown",
   "metadata": {
    "datalore": {
     "hide_input_from_viewers": false,
     "hide_output_from_viewers": false,
     "node_id": "R4Fuot8lSv2MZ564Mm7ijM",
     "report_properties": {
      "rowId": "3TtVAv92jShubhqg9px4NM"
     },
     "type": "MD"
    }
   },
   "source": [
    "### Uji D'Agostino-Pearson\n",
    "\n",
    "Uji lain yang dilakukan adalah tes D'Agostino-Pearson yang merupakan fungsi normaltest dari library scipy. Tes D'Agostino-Pearson dilakukan dengan menggabungkan hasil tes skewness dan kurtosis D'Agostino.\n",
    "\n",
    "Persamaan yang digunakan pada uji d'agostino-pearson adalah sebagai berikut:\n",
    "        $$ K^{2} = Z_{s}^{2} + Z_{k}^{2} $$\n",
    "\n",
    "dengan keterangan\n",
    "\n",
    "$Z_{s}^{2}$ adalah nilai z dari tes skewness d'agostino yang dikuadratkan\n",
    "\n",
    "$Z_{k}^{2}$ adalah yang dikuadratkan\n",
    "\n",
    "Hasil tes diuji dilakukan dengan signifikansi $ \\alpha = 0.05$, jika nilai $p$ yang didapatkan kurang dari alpha, maka $H_{0}$ ditolak dan distribusi tidak normal\n",
    "\n",
    "\n",
    "Tes D'Agostino-Pearson memiliki ketelitian yang lebih rendah dibandingkan shapiro-wilk untuk data yang berjumlah sedikit (kira - kira $x < 2000$) namun lebih tinggi untuk data yang lebih banyak\n"
   ]
  },
  {
   "attachments": {},
   "cell_type": "markdown",
   "metadata": {
    "datalore": {
     "hide_input_from_viewers": true,
     "hide_output_from_viewers": true,
     "node_id": "myMGkWBbAZmADWz0a0KxiC",
     "type": "MD"
    }
   },
   "source": [
    "### Perbedaan Uji D'Agostino-Pearson dan Uji Shapiro-Wilk\n",
    "\n",
    "Perbedaan uji dapat terlihat jelas dari metodologi cara pengujian. Namun, pada umumnya\n",
    "- Tes shapiro-wilk memiliki ketelitian tinggi untuk data yang berjumlah sedikit (kira - kira $x < 2000$)\n",
    "- Tes D'Agostino-Pearson memiliki ketelitian yang lebih rendah dibandingkan shapiro-wilk untuk data yang berjumlah sedikit (kira - kira $x < 2000$), tetapi lebih tinggi untuk data yang lebih banyak.\n",
    "\n",
    "Dalam pengujian memungkinkan grafik untuk ternilai normal untuk satu pengujian dan tidak normal pada pengujian lainnya karena beberapa perbedaan ini."
   ]
  },
  {
   "cell_type": "code",
   "execution_count": 19,
   "metadata": {
    "datalore": {
     "hide_input_from_viewers": false,
     "hide_output_from_viewers": false,
     "node_id": "pGaXQumq1J3bp3Um6uJuYG",
     "report_properties": {
      "rowId": "JghmmX7hNjlq8tfvtk8PfP"
     },
     "type": "CODE"
    }
   },
   "outputs": [
    {
     "data": {
      "image/png": "[encoded data removed]",
      "text/plain": [
       "<Figure size 720x720 with 1 Axes>"
      ]
     },
     "metadata": {
      "needs_background": "light"
     },
     "output_type": "display_data"
    },
    {
     "name": "stdout",
     "output_type": "stream",
     "text": [
      "p-value shapiro-wilk: 0.8935267925262451\n",
      "Berdasarkan tes shapiro-wilk, hipotesis nol diterima, kolom fixed acidity memiliki distribusi normal\n",
      "\n",
      "p-value d'agostino-pearson: 0.9308584274486692\n",
      "Berdasarkan tes d'agostino-pearson, hipotesis nol diterima, kolom fixed acidity memiliki distribusi normal\n"
     ]
    },
    {
     "data": {
      "image/png": "[encoded data removed]",
      "text/plain": [
       "<Figure size 720x720 with 1 Axes>"
      ]
     },
     "metadata": {
      "needs_background": "light"
     },
     "output_type": "display_data"
    },
    {
     "name": "stdout",
     "output_type": "stream",
     "text": [
      "p-value shapiro-wilk: 0.05993043631315231\n",
      "Berdasarkan tes shapiro-wilk, hipotesis nol diterima, kolom volatile acidity memiliki distribusi normal\n",
      "\n",
      "p-value d'agostino-pearson: 0.022581461594113835\n",
      "Berdasarkan tes d'agostino-pearson, hipotesis nol ditolak, kolom volatile acidity tidak memiliki distribusi normal\n"
     ]
    },
    {
     "data": {
      "image/png": "[encoded data removed]",
      "text/plain": [
       "<Figure size 720x720 with 1 Axes>"
      ]
     },
     "metadata": {
      "needs_background": "light"
     },
     "output_type": "display_data"
    },
    {
     "name": "stdout",
     "output_type": "stream",
     "text": [
      "p-value shapiro-wilk: 0.26522907614707947\n",
      "Berdasarkan tes shapiro-wilk, hipotesis nol diterima, kolom citric acid memiliki distribusi normal\n",
      "\n",
      "p-value d'agostino-pearson: 0.6816899375976969\n",
      "Berdasarkan tes d'agostino-pearson, hipotesis nol diterima, kolom citric acid memiliki distribusi normal\n"
     ]
    },
    {
     "data": {
      "image/png": "[encoded data removed]",
      "text/plain": [
       "<Figure size 720x720 with 1 Axes>"
      ]
     },
     "metadata": {
      "needs_background": "light"
     },
     "output_type": "display_data"
    },
    {
     "name": "stdout",
     "output_type": "stream",
     "text": [
      "p-value shapiro-wilk: 0.044918645173311234\n",
      "Berdasarkan tes shapiro-wilk, hipotesis nol ditolak, kolom residual sugar tidak memiliki distribusi normal\n",
      "\n",
      "p-value d'agostino-pearson: 0.22466703321310558\n",
      "Berdasarkan tes d'agostino-pearson, hipotesis nol diterima, kolom residual sugar memiliki distribusi normal\n"
     ]
    },
    {
     "data": {
      "image/png": "[encoded data removed]",
      "text/plain": [
       "<Figure size 720x720 with 1 Axes>"
      ]
     },
     "metadata": {
      "needs_background": "light"
     },
     "output_type": "display_data"
    },
    {
     "name": "stdout",
     "output_type": "stream",
     "text": [
      "p-value shapiro-wilk: 0.17465530335903168\n",
      "Berdasarkan tes shapiro-wilk, hipotesis nol diterima, kolom chlorides memiliki distribusi normal\n",
      "\n",
      "p-value d'agostino-pearson: 0.17048274704296862\n",
      "Berdasarkan tes d'agostino-pearson, hipotesis nol diterima, kolom chlorides memiliki distribusi normal\n"
     ]
    },
    {
     "data": {
      "image/png": "[encoded data removed]",
      "text/plain": [
       "<Figure size 720x720 with 1 Axes>"
      ]
     },
     "metadata": {
      "needs_background": "light"
     },
     "output_type": "display_data"
    },
    {
     "name": "stdout",
     "output_type": "stream",
     "text": [
      "p-value shapiro-wilk: 0.04255827143788338\n",
      "Berdasarkan tes shapiro-wilk, hipotesis nol ditolak, kolom free sulfur dioxide tidak memiliki distribusi normal\n",
      "\n",
      "p-value d'agostino-pearson: 0.01743043451827735\n",
      "Berdasarkan tes d'agostino-pearson, hipotesis nol ditolak, kolom free sulfur dioxide tidak memiliki distribusi normal\n"
     ]
    },
    {
     "data": {
      "image/png": "[encoded data removed]",
      "text/plain": [
       "<Figure size 720x720 with 1 Axes>"
      ]
     },
     "metadata": {
      "needs_background": "light"
     },
     "output_type": "display_data"
    },
    {
     "name": "stdout",
     "output_type": "stream",
     "text": [
      "p-value shapiro-wilk: 0.5367269515991211\n",
      "Berdasarkan tes shapiro-wilk, hipotesis nol diterima, kolom total sulfur dioxide memiliki distribusi normal\n",
      "\n",
      "p-value d'agostino-pearson: 0.8488846101395726\n",
      "Berdasarkan tes d'agostino-pearson, hipotesis nol diterima, kolom total sulfur dioxide memiliki distribusi normal\n"
     ]
    },
    {
     "data": {
      "image/png": "[encoded data removed]",
      "text/plain": [
       "<Figure size 720x720 with 1 Axes>"
      ]
     },
     "metadata": {
      "needs_background": "light"
     },
     "output_type": "display_data"
    },
    {
     "name": "stdout",
     "output_type": "stream",
     "text": [
      "p-value shapiro-wilk: 0.8533204793930054\n",
      "Berdasarkan tes shapiro-wilk, hipotesis nol diterima, kolom density memiliki distribusi normal\n",
      "\n",
      "p-value d'agostino-pearson: 0.5985227325531981\n",
      "Berdasarkan tes d'agostino-pearson, hipotesis nol diterima, kolom density memiliki distribusi normal\n"
     ]
    },
    {
     "data": {
      "image/png": "[encoded data removed]",
      "text/plain": [
       "<Figure size 720x720 with 1 Axes>"
      ]
     },
     "metadata": {
      "needs_background": "light"
     },
     "output_type": "display_data"
    },
    {
     "name": "stdout",
     "output_type": "stream",
     "text": [
      "p-value shapiro-wilk: 0.13713516294956207\n",
      "Berdasarkan tes shapiro-wilk, hipotesis nol diterima, kolom pH memiliki distribusi normal\n",
      "\n",
      "p-value d'agostino-pearson: 0.13678740824860436\n",
      "Berdasarkan tes d'agostino-pearson, hipotesis nol diterima, kolom pH memiliki distribusi normal\n"
     ]
    },
    {
     "data": {
      "image/png": "[encoded data removed]",
      "text/plain": [
       "<Figure size 720x720 with 1 Axes>"
      ]
     },
     "metadata": {
      "needs_background": "light"
     },
     "output_type": "display_data"
    },
    {
     "name": "stdout",
     "output_type": "stream",
     "text": [
      "p-value shapiro-wilk: 0.11214283108711243\n",
      "Berdasarkan tes shapiro-wilk, hipotesis nol diterima, kolom sulphates memiliki distribusi normal\n",
      "\n",
      "p-value d'agostino-pearson: 0.13884318628391681\n",
      "Berdasarkan tes d'agostino-pearson, hipotesis nol diterima, kolom sulphates memiliki distribusi normal\n"
     ]
    },
    {
     "data": {
      "image/png": "[encoded data removed]",
      "text/plain": [
       "<Figure size 720x720 with 1 Axes>"
      ]
     },
     "metadata": {
      "needs_background": "light"
     },
     "output_type": "display_data"
    },
    {
     "name": "stdout",
     "output_type": "stream",
     "text": [
      "p-value shapiro-wilk: 0.519870400428772\n",
      "Berdasarkan tes shapiro-wilk, hipotesis nol diterima, kolom alcohol memiliki distribusi normal\n",
      "\n",
      "p-value d'agostino-pearson: 0.6790884901361043\n",
      "Berdasarkan tes d'agostino-pearson, hipotesis nol diterima, kolom alcohol memiliki distribusi normal\n"
     ]
    }
   ],
   "source": [
    "df_result = pd.DataFrame()\n",
    "counter = 1\n",
    "for col in df.columns.drop('quality'):\n",
    "    \n",
    "    plt.figure(figsize=(10, 10))\n",
    "    \n",
    "    sns.histplot(\n",
    "        df[col], \n",
    "        bins=30, \n",
    "        kde=True,\n",
    "        linewidth = 0,\n",
    "        alpha=0.5,\n",
    "    )\n",
    "    plt.show()\n",
    "\n",
    "    pvalue1 = shapiro(df[col]).pvalue\n",
    "    print(\"p-value shapiro-wilk: \" + str(pvalue1))\n",
    "    if pvalue1 > 0.05:\n",
    "        print(\"Berdasarkan tes shapiro-wilk, hipotesis nol diterima, kolom \" + col + \" memiliki distribusi normal\")\n",
    "    else:\n",
    "        print(\"Berdasarkan tes shapiro-wilk, hipotesis nol ditolak, kolom \" + col + \" tidak memiliki distribusi normal\")\n",
    "    pvalue2 = normaltest(df[col]).pvalue\n",
    "    print(\"\\np-value d'agostino-pearson: \" + str(pvalue2))\n",
    "    if pvalue2 > 0.05:\n",
    "        print(\"Berdasarkan tes d'agostino-pearson, hipotesis nol diterima, kolom \" + col + \" memiliki distribusi normal\")\n",
    "    else:\n",
    "        print(\"Berdasarkan tes d'agostino-pearson, hipotesis nol ditolak, kolom \" + col + \" tidak memiliki distribusi normal\")\n"
   ]
  },
  {
   "attachments": {},
   "cell_type": "markdown",
   "metadata": {
    "datalore": {
     "hide_input_from_viewers": false,
     "hide_output_from_viewers": false,
     "node_id": "rZamD08ZqmIhUt7br5nQ3v",
     "report_properties": {
      "rowId": "6ZLJAFd3wVmkOWmcFWv9wA"
     },
     "type": "MD"
    }
   },
   "source": []
  },
  {
   "attachments": {},
   "cell_type": "markdown",
   "metadata": {
    "datalore": {
     "hide_input_from_viewers": false,
     "hide_output_from_viewers": false,
     "node_id": "fDTHuxD3NJxnsn2FbLTqzK",
     "report_properties": {
      "rowId": "MbPdHNeluCXtOKMDbM7BHM"
     },
     "type": "MD"
    }
   },
   "source": [
    "# Soal 4\n",
    "Melakukan test hiposis 1 sampel"
   ]
  },
  {
   "cell_type": "code",
   "execution_count": 20,
   "metadata": {
    "datalore": {
     "hide_input_from_viewers": false,
     "hide_output_from_viewers": false,
     "node_id": "U8tAxBWzzmkY5dGys3XkHz",
     "report_properties": {
      "rowId": "0ziWbsH3nlfy9ImnupM8MM"
     },
     "type": "CODE"
    }
   },
   "outputs": [],
   "source": [
    "import pandas as pd\n",
    "import scipy.stats as st\n",
    "from statsmodels.stats.weightstats import ztest\n",
    "from statsmodels.stats.proportion import proportions_ztest"
   ]
  },
  {
   "cell_type": "code",
   "execution_count": 21,
   "metadata": {
    "datalore": {
     "hide_input_from_viewers": false,
     "hide_output_from_viewers": false,
     "node_id": "dy6MXhpy5nfvAPbJ98eGPJ",
     "report_properties": {
      "rowId": "wit5J7f01kd4KkukLFAlfD"
     },
     "type": "CODE"
    }
   },
   "outputs": [
    {
     "data": {
      "text/html": [
       "<div>\n",
       "<style scoped>\n",
       "    .dataframe tbody tr th:only-of-type {\n",
       "        vertical-align: middle;\n",
       "    }\n",
       "\n",
       "    .dataframe tbody tr th {\n",
       "        vertical-align: top;\n",
       "    }\n",
       "\n",
       "    .dataframe thead th {\n",
       "        text-align: right;\n",
       "    }\n",
       "</style>\n",
       "<table border=\"1\" class=\"dataframe\">\n",
       "  <thead>\n",
       "    <tr style=\"text-align: right;\">\n",
       "      <th></th>\n",
       "      <th>fixed acidity</th>\n",
       "      <th>volatile acidity</th>\n",
       "      <th>citric acid</th>\n",
       "      <th>residual sugar</th>\n",
       "      <th>chlorides</th>\n",
       "      <th>free sulfur dioxide</th>\n",
       "      <th>total sulfur dioxide</th>\n",
       "      <th>density</th>\n",
       "      <th>pH</th>\n",
       "      <th>sulphates</th>\n",
       "      <th>alcohol</th>\n",
       "      <th>quality</th>\n",
       "    </tr>\n",
       "  </thead>\n",
       "  <tbody>\n",
       "    <tr>\n",
       "      <th>0</th>\n",
       "      <td>5.90</td>\n",
       "      <td>0.4451</td>\n",
       "      <td>0.1813</td>\n",
       "      <td>2.049401</td>\n",
       "      <td>0.070574</td>\n",
       "      <td>16.593818</td>\n",
       "      <td>42.27</td>\n",
       "      <td>0.9982</td>\n",
       "      <td>3.27</td>\n",
       "      <td>0.71</td>\n",
       "      <td>8.64</td>\n",
       "      <td>7</td>\n",
       "    </tr>\n",
       "    <tr>\n",
       "      <th>1</th>\n",
       "      <td>8.40</td>\n",
       "      <td>0.5768</td>\n",
       "      <td>0.2099</td>\n",
       "      <td>3.109590</td>\n",
       "      <td>0.101681</td>\n",
       "      <td>22.555519</td>\n",
       "      <td>16.01</td>\n",
       "      <td>0.9960</td>\n",
       "      <td>3.35</td>\n",
       "      <td>0.57</td>\n",
       "      <td>10.03</td>\n",
       "      <td>8</td>\n",
       "    </tr>\n",
       "    <tr>\n",
       "      <th>2</th>\n",
       "      <td>7.54</td>\n",
       "      <td>0.5918</td>\n",
       "      <td>0.3248</td>\n",
       "      <td>3.673744</td>\n",
       "      <td>0.072416</td>\n",
       "      <td>9.316866</td>\n",
       "      <td>35.52</td>\n",
       "      <td>0.9990</td>\n",
       "      <td>3.31</td>\n",
       "      <td>0.64</td>\n",
       "      <td>9.23</td>\n",
       "      <td>8</td>\n",
       "    </tr>\n",
       "    <tr>\n",
       "      <th>3</th>\n",
       "      <td>5.39</td>\n",
       "      <td>0.4201</td>\n",
       "      <td>0.3131</td>\n",
       "      <td>3.371815</td>\n",
       "      <td>0.072755</td>\n",
       "      <td>18.212300</td>\n",
       "      <td>41.97</td>\n",
       "      <td>0.9945</td>\n",
       "      <td>3.34</td>\n",
       "      <td>0.55</td>\n",
       "      <td>14.07</td>\n",
       "      <td>9</td>\n",
       "    </tr>\n",
       "    <tr>\n",
       "      <th>4</th>\n",
       "      <td>6.51</td>\n",
       "      <td>0.5675</td>\n",
       "      <td>0.1940</td>\n",
       "      <td>4.404723</td>\n",
       "      <td>0.066379</td>\n",
       "      <td>9.360591</td>\n",
       "      <td>46.27</td>\n",
       "      <td>0.9925</td>\n",
       "      <td>3.27</td>\n",
       "      <td>0.45</td>\n",
       "      <td>11.49</td>\n",
       "      <td>8</td>\n",
       "    </tr>\n",
       "    <tr>\n",
       "      <th>...</th>\n",
       "      <td>...</td>\n",
       "      <td>...</td>\n",
       "      <td>...</td>\n",
       "      <td>...</td>\n",
       "      <td>...</td>\n",
       "      <td>...</td>\n",
       "      <td>...</td>\n",
       "      <td>...</td>\n",
       "      <td>...</td>\n",
       "      <td>...</td>\n",
       "      <td>...</td>\n",
       "      <td>...</td>\n",
       "    </tr>\n",
       "    <tr>\n",
       "      <th>995</th>\n",
       "      <td>7.96</td>\n",
       "      <td>0.6046</td>\n",
       "      <td>0.2662</td>\n",
       "      <td>1.592048</td>\n",
       "      <td>0.057555</td>\n",
       "      <td>14.892445</td>\n",
       "      <td>44.61</td>\n",
       "      <td>0.9975</td>\n",
       "      <td>3.35</td>\n",
       "      <td>0.54</td>\n",
       "      <td>10.41</td>\n",
       "      <td>8</td>\n",
       "    </tr>\n",
       "    <tr>\n",
       "      <th>996</th>\n",
       "      <td>8.48</td>\n",
       "      <td>0.4080</td>\n",
       "      <td>0.2227</td>\n",
       "      <td>0.681955</td>\n",
       "      <td>0.051627</td>\n",
       "      <td>23.548965</td>\n",
       "      <td>25.83</td>\n",
       "      <td>0.9972</td>\n",
       "      <td>3.41</td>\n",
       "      <td>0.46</td>\n",
       "      <td>9.91</td>\n",
       "      <td>8</td>\n",
       "    </tr>\n",
       "    <tr>\n",
       "      <th>997</th>\n",
       "      <td>6.11</td>\n",
       "      <td>0.4841</td>\n",
       "      <td>0.3720</td>\n",
       "      <td>2.377267</td>\n",
       "      <td>0.042806</td>\n",
       "      <td>21.624585</td>\n",
       "      <td>48.75</td>\n",
       "      <td>0.9928</td>\n",
       "      <td>3.23</td>\n",
       "      <td>0.55</td>\n",
       "      <td>9.94</td>\n",
       "      <td>7</td>\n",
       "    </tr>\n",
       "    <tr>\n",
       "      <th>998</th>\n",
       "      <td>7.76</td>\n",
       "      <td>0.3590</td>\n",
       "      <td>0.3208</td>\n",
       "      <td>4.294486</td>\n",
       "      <td>0.098276</td>\n",
       "      <td>12.746186</td>\n",
       "      <td>44.53</td>\n",
       "      <td>0.9952</td>\n",
       "      <td>3.30</td>\n",
       "      <td>0.66</td>\n",
       "      <td>9.76</td>\n",
       "      <td>8</td>\n",
       "    </tr>\n",
       "    <tr>\n",
       "      <th>999</th>\n",
       "      <td>5.87</td>\n",
       "      <td>0.5214</td>\n",
       "      <td>0.1883</td>\n",
       "      <td>2.179490</td>\n",
       "      <td>0.052923</td>\n",
       "      <td>16.203864</td>\n",
       "      <td>24.37</td>\n",
       "      <td>0.9983</td>\n",
       "      <td>3.29</td>\n",
       "      <td>0.70</td>\n",
       "      <td>10.17</td>\n",
       "      <td>7</td>\n",
       "    </tr>\n",
       "  </tbody>\n",
       "</table>\n",
       "<p>1000 rows × 12 columns</p>\n",
       "</div>"
      ],
      "text/plain": [
       "     fixed acidity  volatile acidity  citric acid  residual sugar  chlorides  \\\n",
       "0             5.90            0.4451       0.1813        2.049401   0.070574   \n",
       "1             8.40            0.5768       0.2099        3.109590   0.101681   \n",
       "2             7.54            0.5918       0.3248        3.673744   0.072416   \n",
       "3             5.39            0.4201       0.3131        3.371815   0.072755   \n",
       "4             6.51            0.5675       0.1940        4.404723   0.066379   \n",
       "..             ...               ...          ...             ...        ...   \n",
       "995           7.96            0.6046       0.2662        1.592048   0.057555   \n",
       "996           8.48            0.4080       0.2227        0.681955   0.051627   \n",
       "997           6.11            0.4841       0.3720        2.377267   0.042806   \n",
       "998           7.76            0.3590       0.3208        4.294486   0.098276   \n",
       "999           5.87            0.5214       0.1883        2.179490   0.052923   \n",
       "\n",
       "     free sulfur dioxide  total sulfur dioxide  density    pH  sulphates  \\\n",
       "0              16.593818                 42.27   0.9982  3.27       0.71   \n",
       "1              22.555519                 16.01   0.9960  3.35       0.57   \n",
       "2               9.316866                 35.52   0.9990  3.31       0.64   \n",
       "3              18.212300                 41.97   0.9945  3.34       0.55   \n",
       "4               9.360591                 46.27   0.9925  3.27       0.45   \n",
       "..                   ...                   ...      ...   ...        ...   \n",
       "995            14.892445                 44.61   0.9975  3.35       0.54   \n",
       "996            23.548965                 25.83   0.9972  3.41       0.46   \n",
       "997            21.624585                 48.75   0.9928  3.23       0.55   \n",
       "998            12.746186                 44.53   0.9952  3.30       0.66   \n",
       "999            16.203864                 24.37   0.9983  3.29       0.70   \n",
       "\n",
       "     alcohol  quality  \n",
       "0       8.64        7  \n",
       "1      10.03        8  \n",
       "2       9.23        8  \n",
       "3      14.07        9  \n",
       "4      11.49        8  \n",
       "..       ...      ...  \n",
       "995    10.41        8  \n",
       "996     9.91        8  \n",
       "997     9.94        7  \n",
       "998     9.76        8  \n",
       "999    10.17        7  \n",
       "\n",
       "[1000 rows x 12 columns]"
      ]
     },
     "execution_count": 21,
     "metadata": {},
     "output_type": "execute_result"
    }
   ],
   "source": [
    "df = pd.read_csv(\"anggur.csv\")\n",
    "df"
   ]
  },
  {
   "attachments": {},
   "cell_type": "markdown",
   "metadata": {
    "datalore": {
     "hide_input_from_viewers": false,
     "hide_output_from_viewers": false,
     "node_id": "8mJ7oFXflxgmBoG23kWdLn",
     "report_properties": {
      "rowId": "VoxaQOHfXgomJ3LSQKjAxx"
     },
     "type": "MD"
    }
   },
   "source": [
    "## Nilai rata - rata pH di atas 3.29?"
   ]
  },
  {
   "attachments": {},
   "cell_type": "markdown",
   "metadata": {
    "datalore": {
     "hide_input_from_viewers": false,
     "hide_output_from_viewers": false,
     "node_id": "1EfCluwR7SqBvdeymeOEZr",
     "report_properties": {
      "rowId": "Memtj4b7gOGZwxZm3K0ADn"
     },
     "type": "MD"
    }
   },
   "source": [
    "Menggunakan data pH keseluruhan sebagai sampel\n",
    "\n",
    "$H_{0}: \\mu = 3.29$\n",
    "\n",
    "$H_{1}: \\mu > 3.29$\n",
    "\n",
    "Hasil tes diuji dilakukan dengan signifikansi $ \\alpha = 0.05$\n",
    "\n",
    "Uji statistik dapat dilakukan dengan one tailed test ke arah kanan karena mencari $\\mu > \\mu_{0}$ pada $H_{1}$. Dengan demikian, critical section adalah $z > z_{\\alpha}$\n",
    "\n",
    "Nilai $z$ didapatkan dengan rumus $$z = \\frac{\\bar{x} - \\mu_{0}}{\\sigma / \\sqrt{n}}$$\n",
    "\n",
    "$H_{0}$ ditolak jika $z > z_{\\alpha}$ dan diterima jika $z \\leq z_{\\alpha}$\n"
   ]
  },
  {
   "cell_type": "code",
   "execution_count": 22,
   "metadata": {
    "datalore": {
     "hide_input_from_viewers": false,
     "hide_output_from_viewers": false,
     "node_id": "pJYXOJnGw4bQpePuP3JoFn",
     "report_properties": {
      "rowId": "NjguLjIEYOxPPVJgoxnhH1"
     },
     "type": "CODE"
    }
   },
   "outputs": [
    {
     "name": "stdout",
     "output_type": "stream",
     "text": [
      "Nilai z_a adalah:  1.6448536269514722\n",
      "Nilai p_a adalah:  0.05\n",
      "\n",
      "Nilai z adalah:  4.1037807933651145\n",
      "Nilai p adalah:  4.0645260086604666e-05\n",
      "\n",
      "4.1037807933651145  >  1.6448536269514722\n",
      "4.0645260086604666e-05  <  0.05\n",
      "\n",
      "Karena z > z_a (berada pada daerah kritis) dan p < p_a, maka H0 dapat ditolak\n"
     ]
    }
   ],
   "source": [
    "mu_0 = 3.29\n",
    "alpha = 0.05\n",
    "z_a = st.norm.ppf(1-alpha)\n",
    "print(\"Nilai z_a adalah: \", z_a)\n",
    "print(\"Nilai p_a adalah: \", alpha)\n",
    "\n",
    "z, p = ztest(df['pH'], value=mu_0)\n",
    "print(\"\\nNilai z adalah: \", z)\n",
    "print(\"Nilai p adalah: \", p)\n",
    "\n",
    "if(z > z_a):\n",
    "    print()\n",
    "    print(z, \" > \", z_a)\n",
    "    print(p, \" < \", alpha)\n",
    "    print(\"\\nKarena z > z_a (berada pada daerah kritis) dan p < p_a, maka H0 dapat ditolak\")\n",
    "else:\n",
    "    print()\n",
    "    print(z, \" <= \", z_a)\n",
    "    print(p, \" >= \", alpha)\n",
    "    print(\"\\nKarena z <= z_a (tidak berada pada daerah kritis) dan p >= p_a, maka H0 tidak dapat ditolak\")"
   ]
  },
  {
   "attachments": {},
   "cell_type": "markdown",
   "metadata": {
    "datalore": {
     "hide_input_from_viewers": false,
     "hide_output_from_viewers": false,
     "node_id": "w92tNG7VtvscwCwyLrUeiS",
     "report_properties": {
      "rowId": "ETRxebD42SOEOD6pw9PWI4"
     },
     "type": "MD"
    }
   },
   "source": [
    "Didapatkan $z = 4.1038$ dan $z_{\\alpha} = 1.6448$. Karena $z > z_{a}$ dan $p < \\alpha$, maka $z$ terdapat pada area kritis dan $H_{0}$ dapat ditolak.\n",
    "\n",
    "Kesimpulan: Nilai rata - rata pH di atas 3.29"
   ]
  },
  {
   "attachments": {},
   "cell_type": "markdown",
   "metadata": {
    "datalore": {
     "hide_input_from_viewers": false,
     "hide_output_from_viewers": false,
     "node_id": "4dFW2yUxPSSVjG5IHirBiz",
     "report_properties": {
      "rowId": "Krvk0DSUd9qAjf4vHV7ZQs"
     },
     "type": "MD"
    }
   },
   "source": [
    "## Nilai rata-rata Residual Sugar tidak sama dengan 2.50?"
   ]
  },
  {
   "attachments": {},
   "cell_type": "markdown",
   "metadata": {
    "datalore": {
     "hide_input_from_viewers": false,
     "hide_output_from_viewers": false,
     "node_id": "YnNo3q2psA975JN6h7FBo4",
     "report_properties": {
      "rowId": "PCBdhGJ7gvpTjtzgpP5kCK"
     },
     "type": "MD"
    }
   },
   "source": [
    "Menggunakan data Residual Sugar keseluruhan sebagai sampel\n",
    "\n",
    "$H_{0}: \\mu = 2.50$\n",
    "\n",
    "$H_{1}: \\mu \\neq 2.50$\n",
    "\n",
    "Hasil tes diuji dilakukan dengan signifikansi $ \\alpha = 0.05$\n",
    "\n",
    "Uji statistik dapat dilakukan dengan two tailed test ke arah kanan karena mencari $\\mu \\neq \\mu_{0}$ pada $H_{1}$. Dengan demikian, critical section adalah $z < -z_{\\alpha/2}$ atau $z > z_{\\alpha/2}$\n",
    "\n",
    "Nilai $z$ didapatkan dengan rumus $$z = \\frac{\\bar{x} - \\mu_{0}}{\\sigma / \\sqrt{n}}$$\n",
    "\n",
    "$H_{0}$ ditolak jika $z < -z_{\\alpha/2}$ atau $z > z_{\\alpha/2}$ dan diterima jika $-z_{\\alpha/2} \\geq z \\geq z_{\\alpha/2}$"
   ]
  },
  {
   "cell_type": "code",
   "execution_count": 23,
   "metadata": {
    "datalore": {
     "hide_input_from_viewers": false,
     "hide_output_from_viewers": false,
     "node_id": "XoXYas04ORLxm276sHfMVR",
     "report_properties": {
      "rowId": "OdNgFAtjZpAbU51obA6PrJ"
     },
     "type": "CODE"
    }
   },
   "outputs": [
    {
     "name": "stdout",
     "output_type": "stream",
     "text": [
      "Nilai z_a adalah:  1.959963984540054\n",
      "Nilai -z_a adalah:  -1.959963984540054\n",
      "Nilai p_a adalah:  0.05\n",
      "\n",
      "Nilai z adalah:  2.1479619435539523\n",
      "Nilai p adalah:  0.031716778818727434\n",
      "\n",
      "2.1479619435539523  >  1.959963984540054\n",
      "0.031716778818727434  <  0.05\n",
      "\n",
      "Karena z > z_a2 (berada pada daerah kritis) dan p < p_a, maka H0 dapat ditolak\n"
     ]
    }
   ],
   "source": [
    "mu_0 = 2.50\n",
    "alpha = 0.05\n",
    "z_a2 = st.norm.ppf(1-alpha/2)\n",
    "print(\"Nilai z_a adalah: \", z_a2)\n",
    "print(\"Nilai -z_a adalah: \", -z_a2)\n",
    "print(\"Nilai p_a adalah: \", alpha)\n",
    "\n",
    "z, p = ztest(df['residual sugar'], value=mu_0)\n",
    "print(\"\\nNilai z adalah: \", z)\n",
    "print(\"Nilai p adalah: \", p)\n",
    "\n",
    "if(z < -z_a2):\n",
    "    print()\n",
    "    print(z, \" < \", -z_a2)\n",
    "    print(p, \" < \", alpha)\n",
    "    print(\"\\nKarena z< -z_a2 (berada pada daerah kritis) dan p < p_a, maka H0 dapat ditolak\")\n",
    "elif(z > z_a2):\n",
    "    print()\n",
    "    print(z, \" > \", z_a2)\n",
    "    print(p, \" < \", alpha)\n",
    "    print(\"\\nKarena z > z_a2 (berada pada daerah kritis) dan p < p_a, maka H0 dapat ditolak\")\n",
    "else:\n",
    "    print()\n",
    "    print(-z_a2, \"<= \", z, \" <= \", z_a2)\n",
    "    print(p, \" > \", alpha)\n",
    "    print(\"\\nKarena -z_a2 <=z <= z_a2 (tidak berada pada daerah kritis) dan p >= p_a, maka H0 tidak dapat ditolak\")"
   ]
  },
  {
   "attachments": {},
   "cell_type": "markdown",
   "metadata": {
    "datalore": {
     "hide_input_from_viewers": false,
     "hide_output_from_viewers": false,
     "node_id": "mEAnPqTjNuTsOJsSAfhymB",
     "report_properties": {
      "rowId": "1lSOjS5mkbdpOyl7HKsICT"
     },
     "type": "MD"
    }
   },
   "source": [
    "Didapatkan $z = 2.1479$ dan $z_{\\alpha/2} = 1.9599$. Karena $z > z_{a}$ dan $p < \\alpha$, maka $z$ terdapat pada area kritis bagian kanan dan $H_{0}$ dapat ditolak.\n",
    "\n",
    "Kesimpulan: Nilai rata - rata Residual Sugar tidak sama dengan 2.50"
   ]
  },
  {
   "attachments": {},
   "cell_type": "markdown",
   "metadata": {
    "datalore": {
     "hide_input_from_viewers": false,
     "hide_output_from_viewers": false,
     "node_id": "uprIIWaKXWziY97FyQxFPB",
     "report_properties": {
      "rowId": "m6hx2ykegjmX3UMhtjg6Ln"
     },
     "type": "MD"
    }
   },
   "source": [
    "## Nilai rata-rata 150 baris pertama kolom sulphates bukan 0.65?"
   ]
  },
  {
   "attachments": {},
   "cell_type": "markdown",
   "metadata": {
    "datalore": {
     "hide_input_from_viewers": false,
     "hide_output_from_viewers": false,
     "node_id": "739DCaA7r8UJXU7xgZ0ROh",
     "report_properties": {
      "rowId": "w9HjQ3SWPA8lQfBFN6orvD"
     },
     "type": "MD"
    }
   },
   "source": [
    "Menggunakan data Sulphates dengan 150 kolom pertama sebagai sampel\n",
    "\n",
    "$H_{0}: \\mu = 0.65$\n",
    "\n",
    "$H_{1}: \\mu \\neq 0.65$\n",
    "\n",
    "Hasil tes diuji dilakukan dengan signifikansi $ \\alpha = 0.05$\n",
    "\n",
    "Uji statistik dapat dilakukan dengan two tailed test ke arah kanan karena mencari $\\mu \\neq \\mu_{0}$ pada $H_{1}$. Dengan demikian, critical section adalah $z < -z_{\\alpha/2}$ atau $z > z_{\\alpha/2}$\n",
    "\n",
    "Nilai $z$ didapatkan dengan rumus $$z = \\frac{\\bar{x} - \\mu_{0}}{\\sigma / \\sqrt{n}}$$\n",
    "\n",
    "$H_{0}$ ditolak jika $z < -z_{\\alpha/2}$ atau $z > z_{\\alpha/2}$ dan diterima jika $-z_{\\alpha/2} \\geq z \\geq z_{\\alpha/2}$"
   ]
  },
  {
   "cell_type": "code",
   "execution_count": 24,
   "metadata": {
    "datalore": {
     "hide_input_from_viewers": false,
     "hide_output_from_viewers": false,
     "node_id": "X83fI1szjuEslBxZGEMxZO",
     "report_properties": {
      "rowId": "ui7rJA3f6831eI4DPiSULf"
     },
     "type": "CODE"
    }
   },
   "outputs": [
    {
     "name": "stdout",
     "output_type": "stream",
     "text": [
      "Nilai z_a adalah:  1.959963984540054\n",
      "Nilai -z_a adalah:  -1.959963984540054\n",
      "Nilai p_a adalah:  0.05\n",
      "\n",
      "Nilai z adalah:  -4.964843393315918\n",
      "Nilai p adalah:  6.875652918327359e-07\n",
      "\n",
      "-4.964843393315918  <  -1.959963984540054\n",
      "6.875652918327359e-07  <  0.05\n",
      "\n",
      "Karena z< -z_a2 (berada pada daerah kritis) dan p < p_a, maka H0 dapat ditolak\n"
     ]
    }
   ],
   "source": [
    "mu_0 = 0.65\n",
    "alpha = 0.05\n",
    "z_a2 = st.norm.ppf(1-alpha/2)\n",
    "print(\"Nilai z_a adalah: \", z_a2)\n",
    "print(\"Nilai -z_a adalah: \", -z_a2)\n",
    "print(\"Nilai p_a adalah: \", alpha)\n",
    "\n",
    "z, p = ztest(df['sulphates'].head(150), value=mu_0)\n",
    "print(\"\\nNilai z adalah: \", z)\n",
    "print(\"Nilai p adalah: \", p)\n",
    "\n",
    "if(z < -z_a2):\n",
    "    print()\n",
    "    print(z, \" < \", -z_a2)\n",
    "    print(p, \" < \", alpha)\n",
    "    print(\"\\nKarena z< -z_a2 (berada pada daerah kritis) dan p < p_a, maka H0 dapat ditolak\")\n",
    "elif(z > z_a2):\n",
    "    print()\n",
    "    print(z, \" > \", z_a2)\n",
    "    print(p, \" < \", alpha)\n",
    "    print(\"\\nKarena z > z_a2 (berada pada daerah kritis) dan p < p_a, maka H0 dapat ditolak\")\n",
    "else:\n",
    "    print()\n",
    "    print(-z_a2, \"<= \", z, \" <= \", z_a2)\n",
    "    print(p, \" > \", alpha)\n",
    "    print(\"\\nKarena -z_a2 <=z <= z_a2 (tidak berada pada daerah kritis) dan p > p_a, maka H0 tidak dapat ditolak\")"
   ]
  },
  {
   "attachments": {},
   "cell_type": "markdown",
   "metadata": {
    "datalore": {
     "hide_input_from_viewers": false,
     "hide_output_from_viewers": false,
     "node_id": "9FkdjiM5JCvHGsqcqYWrL4",
     "report_properties": {
      "rowId": "plBec2UygKsm0GLh7LyF6w"
     },
     "type": "MD"
    }
   },
   "source": [
    "Didapatkan $z = -4.9648$ dan $z_{\\alpha/2} = 1.9599$. Karena $z < -z_{a}$ dan $p < \\alpha$, maka $z$ terdapat pada area kritis bagian kiri dan $H_{0}$ dapat ditolak.\n",
    "\n",
    "Kesimpulan: Nilai rata - rata 150 kolom pertama Sulphates tidak sama dengan 0.65"
   ]
  },
  {
   "attachments": {},
   "cell_type": "markdown",
   "metadata": {
    "datalore": {
     "hide_input_from_viewers": false,
     "hide_output_from_viewers": false,
     "node_id": "jGpueLSpLRi5rsjThVSqzm",
     "report_properties": {
      "rowId": "UoPy9vOLSMtA46qfSsrhOD"
     },
     "type": "MD"
    }
   },
   "source": [
    "## Nilai rata-rata total sulfur dioxide di bawah 35?"
   ]
  },
  {
   "attachments": {},
   "cell_type": "markdown",
   "metadata": {
    "datalore": {
     "hide_input_from_viewers": false,
     "hide_output_from_viewers": false,
     "node_id": "bHYmOycw77ZdFkahVVRB0O",
     "report_properties": {
      "rowId": "pEhCBSH8XhfGTXv4NNEesO"
     },
     "type": "MD"
    }
   },
   "source": [
    "Menggunakan data Total Sulphur Dioxide keseluruhan sebagai sampel\n",
    "\n",
    "$H_{0}: \\mu = 35$\n",
    "\n",
    "$H_{1}: \\mu < 35$\n",
    "\n",
    "Hasil tes diuji dilakukan dengan signifikansi $ \\alpha = 0.05$\n",
    "\n",
    "Uji statistik dapat dilakukan dengan one tailed test ke arah kanan karena mencari $\\mu < \\mu_{0}$ pada $H_{1}$. Dengan demikian, critical section adalah $z < -z_{\\alpha}$\n",
    "\n",
    "Nilai $z$ didapatkan dengan rumus $$z = \\frac{\\bar{x} - \\mu_{0}}{\\sigma / \\sqrt{n}}$$\n",
    "\n",
    "$H_{0}$ ditolak jika $z < z_{\\alpha}$ dan diterima jika $z \\geq z_{\\alpha}$\n"
   ]
  },
  {
   "cell_type": "code",
   "execution_count": 25,
   "metadata": {
    "datalore": {
     "hide_input_from_viewers": false,
     "hide_output_from_viewers": false,
     "node_id": "OQoAWaYaqm1Luze7i6Z78x",
     "report_properties": {
      "rowId": "2cvcYLN47H19EeP4mgjGVz"
     },
     "type": "CODE"
    }
   },
   "outputs": [
    {
     "name": "stdout",
     "output_type": "stream",
     "text": [
      "Nilai z_a adalah:  1.6448536269514722\n",
      "Nilai p_a adalah:  0.05\n",
      "\n",
      "Nilai z adalah:  16.786387372296744\n",
      "Nilai p adalah:  1.0\n",
      "\n",
      "16.786387372296744  >=  1.6448536269514722\n",
      "1.0  >=  0.05\n",
      "\n",
      "Karena z >= z_a (tidak berada pada daerah kritis) dan p > p_a, maka H0 tidak dapat ditolak\n"
     ]
    }
   ],
   "source": [
    "mu_0 = 35\n",
    "alpha = 0.05\n",
    "z_a = st.norm.ppf(1-alpha)\n",
    "print(\"Nilai z_a adalah: \", z_a)\n",
    "print(\"Nilai p_a adalah: \", alpha)\n",
    "\n",
    "z, p = ztest(df['total sulfur dioxide'], value=mu_0)\n",
    "\n",
    "#karena tailed test ke kiri maka p perlu dibalik\n",
    "p = 1 - p\n",
    "\n",
    "print(\"\\nNilai z adalah: \", z)\n",
    "print(\"Nilai p adalah: \", p)\n",
    "\n",
    "if(z < z_a):\n",
    "    print()\n",
    "    print(z, \" < \", z_a)\n",
    "    print(p, \" < \", alpha)\n",
    "    print(\"\\nKarena z < z_a (berada pada daerah kritis) dan p < p_a, maka H0 ditolak\")\n",
    "else:\n",
    "    print()\n",
    "    print(z, \" >= \", z_a)\n",
    "    print(p, \" >= \", alpha)\n",
    "    print(\"\\nKarena z >= z_a (tidak berada pada daerah kritis) dan p > p_a, maka H0 tidak dapat ditolak\")"
   ]
  },
  {
   "attachments": {},
   "cell_type": "markdown",
   "metadata": {
    "datalore": {
     "hide_input_from_viewers": false,
     "hide_output_from_viewers": false,
     "node_id": "1FVPGb1is6hFG5tBaDIRQF",
     "report_properties": {
      "rowId": "GMShJFQvDe49L12l5MZCYo"
     },
     "type": "MD"
    }
   },
   "source": [
    "Didapatkan $z = 16.7864$ dan $z_{\\alpha} = 1.6448$. Karena $z \\geq z_{a}$ dan $p \\geq \\alpha$, maka $z$ tidak terdapat pada area kritis dan $H_{0}$ tidak dapat ditolak.\n",
    "\n",
    "Kesimpulan: Nilai rata - rata Total Sulfur Dioxide tidak di bawah 35"
   ]
  },
  {
   "attachments": {},
   "cell_type": "markdown",
   "metadata": {
    "datalore": {
     "hide_input_from_viewers": false,
     "hide_output_from_viewers": false,
     "node_id": "ut6XsHJ0kPtqkmkmed8FNu",
     "report_properties": {
      "rowId": "217RZDyTCn66hCEV2XszCy"
     },
     "type": "MD"
    }
   },
   "source": [
    "## Proporsi nilai total sulfur dioxide yang lebih dari 40, adalah tidak sama dengan 50% ?"
   ]
  },
  {
   "attachments": {},
   "cell_type": "markdown",
   "metadata": {
    "datalore": {
     "hide_input_from_viewers": false,
     "hide_output_from_viewers": false,
     "node_id": "8X2bDS2jKGPjgiEaxnMnTW",
     "report_properties": {
      "rowId": "KxfkQL8HmaZk7xwLoQKZJm"
     },
     "type": "MD"
    }
   },
   "source": [
    "Menggunakan data Total Sulphur Dioxide keseluruhan sebagai sampel dan data Total Sulphur Dioxide dengan nilai lebih dari 40 sebagai sampel yang memenuhi kondisi\n",
    "\n",
    "$H_{0}: p = 0.5$\n",
    "\n",
    "$H_{1}: p \\neq 0.5$\n",
    "\n",
    "Hasil tes diuji dilakukan dengan signifikansi $ \\alpha = 0.05$\n",
    "\n",
    "Uji statistik dapat dilakukan dengan uji proporsi two tailed test ke arah kanan karena mencari $p \\neq p_{0}$ pada $H_{1}$. Tes statistik dapat dilakukan dengan menggunakan tes binomial didekati normal karena statistik memiliki karakteristik normal berdasarkan tes yang dilakukan pada no 3. Dengan demikian, critical section adalah $z < -z_{\\alpha/2}$ atau $z > z_{\\alpha/2}$\n",
    "\n",
    "Nilai $z$ didapatkan dengan rumus $$z = \\frac{\\hat{p} - p_{0}}{\\sqrt{p_{0}q_{0}/n}}$$\n",
    "\n",
    "$H_{0}$ ditolak jika $z < -z_{\\alpha/2}$ atau $z > z_{\\alpha/2}$ dan diterima jika $-z_{\\alpha/2} \\geq z \\geq z_{\\alpha/2}$"
   ]
  },
  {
   "cell_type": "code",
   "execution_count": 26,
   "metadata": {
    "datalore": {
     "hide_input_from_viewers": false,
     "hide_output_from_viewers": false,
     "node_id": "p5MUHyuTa3mm5MUqbbC4Jc",
     "report_properties": {
      "rowId": "hhxPG89itfDsjSSs8XfToa"
     },
     "type": "CODE"
    }
   },
   "outputs": [
    {
     "name": "stdout",
     "output_type": "stream",
     "text": [
      "Nilai z_a/2 adalah:  1.959963984540054\n",
      "Nilai -z_a/2 adalah:  -1.959963984540054\n",
      "Nilai p_a adalah:  0.05\n",
      "\n",
      "Nilai z adalah:  0.7591653095427344\n",
      "Nilai p adalah:  0.4477536749931885\n",
      "\n",
      "-1.959963984540054 <=  0.7591653095427344  <=  1.959963984540054\n",
      "0.4477536749931885  >=  0.05\n",
      "\n",
      "Karena -z_a2 <=z <= z_a2 (tidak berada pada daerah kritis) dan p >= p_a, maka H0 tidak dapat ditolak\n"
     ]
    }
   ],
   "source": [
    "p_0 = 0.5\n",
    "alpha_2 = 0.05/2\n",
    "z_a2 = st.norm.ppf(1-alpha/2)\n",
    "print(\"Nilai z_a/2 adalah: \", z_a2)\n",
    "print(\"Nilai -z_a/2 adalah: \", -z_a2)\n",
    "print(\"Nilai p_a adalah: \", alpha)\n",
    "\n",
    "satisfy = len(df[df['total sulfur dioxide'] > 40])\n",
    "total = len(df)\n",
    "\n",
    "z, p = proportions_ztest(satisfy, total, p_0)\n",
    "print(\"\\nNilai z adalah: \", z)\n",
    "print(\"Nilai p adalah: \", p)\n",
    "\n",
    "if(z < -z_a2):\n",
    "    print()\n",
    "    print(z, \" < \", z_a2)\n",
    "    print(p, \" < \", alpha)\n",
    "    print(\"\\nKarena z< -z_a2 (berada pada daerah kritis) dan p < p_a, maka H0 ditolak\")\n",
    "elif(z > z_a2):\n",
    "    print()\n",
    "    print(z, \" > \", z_a2)\n",
    "    print(p, \" < \", alpha)\n",
    "    print(\"\\nKarena z > z_a2 (berada pada daerah kritis) dan p < p_a, maka H0 ditolak\")\n",
    "else:\n",
    "    print()\n",
    "    print(-z_a2, \"<= \", z, \" <= \", z_a2)\n",
    "    print(p, \" >= \", alpha)\n",
    "    print(\"\\nKarena -z_a2 <=z <= z_a2 (tidak berada pada daerah kritis) dan p >= p_a, maka H0 tidak dapat ditolak\")"
   ]
  },
  {
   "attachments": {},
   "cell_type": "markdown",
   "metadata": {
    "datalore": {
     "hide_input_from_viewers": false,
     "hide_output_from_viewers": false,
     "node_id": "jjIK2jAnTvTYh6u5HKSykq",
     "report_properties": {
      "rowId": "XyaLMPqNY9Ulr8AVhg5H2b"
     },
     "type": "MD"
    }
   },
   "source": [
    "Didapatkan $z = 0.7591$ dan $z_{\\alpha/2} = 1.9599$. Karena $-z_{a} \\leq z \\leq z_{a}$ dan $p \\geq \\alpha$, maka $z$ tidak terdapat pada area kritis dan $H_{0}$ tidak dapat ditolak.\n",
    "\n",
    "Kesimpulan: Proporsi nilai total sulfur dioxide yang lebih dari 40 adalah sama dengan 50%"
   ]
  },
  {
   "attachments": {},
   "cell_type": "markdown",
   "metadata": {
    "datalore": {
     "hide_input_from_viewers": false,
     "hide_output_from_viewers": false,
     "node_id": "cFa47F3Tc7xtfcNe1lRh7q",
     "report_properties": {
      "rowId": "zmuJNuFZVIji81xrU15RAF"
     },
     "type": "MD"
    }
   },
   "source": [
    "# Soal 5\n",
    "Melakukan test hiposis 2 sampel"
   ]
  },
  {
   "cell_type": "code",
   "execution_count": 27,
   "metadata": {
    "datalore": {
     "hide_input_from_viewers": false,
     "hide_output_from_viewers": false,
     "node_id": "irTE13N2nwwx1Wh1vaehRl",
     "report_properties": {
      "rowId": "6upgl52ZYRKxWHnteDZIwN"
     },
     "type": "CODE"
    }
   },
   "outputs": [],
   "source": [
    "import pandas as pd\n",
    "import scipy.stats as st\n",
    "from statsmodels.stats.weightstats import ztest\n",
    "from statsmodels.stats.proportion import proportions_ztest"
   ]
  },
  {
   "cell_type": "code",
   "execution_count": 28,
   "metadata": {
    "datalore": {
     "hide_input_from_viewers": false,
     "hide_output_from_viewers": false,
     "node_id": "s1yf5XbKIH5GPBJC1AdRIm",
     "report_properties": {
      "rowId": "B8We5K1ScVqMANNqaSggqr"
     },
     "type": "CODE"
    }
   },
   "outputs": [
    {
     "data": {
      "text/html": [
       "<div>\n",
       "<style scoped>\n",
       "    .dataframe tbody tr th:only-of-type {\n",
       "        vertical-align: middle;\n",
       "    }\n",
       "\n",
       "    .dataframe tbody tr th {\n",
       "        vertical-align: top;\n",
       "    }\n",
       "\n",
       "    .dataframe thead th {\n",
       "        text-align: right;\n",
       "    }\n",
       "</style>\n",
       "<table border=\"1\" class=\"dataframe\">\n",
       "  <thead>\n",
       "    <tr style=\"text-align: right;\">\n",
       "      <th></th>\n",
       "      <th>fixed acidity</th>\n",
       "      <th>volatile acidity</th>\n",
       "      <th>citric acid</th>\n",
       "      <th>residual sugar</th>\n",
       "      <th>chlorides</th>\n",
       "      <th>free sulfur dioxide</th>\n",
       "      <th>total sulfur dioxide</th>\n",
       "      <th>density</th>\n",
       "      <th>pH</th>\n",
       "      <th>sulphates</th>\n",
       "      <th>alcohol</th>\n",
       "      <th>quality</th>\n",
       "    </tr>\n",
       "  </thead>\n",
       "  <tbody>\n",
       "    <tr>\n",
       "      <th>0</th>\n",
       "      <td>5.90</td>\n",
       "      <td>0.4451</td>\n",
       "      <td>0.1813</td>\n",
       "      <td>2.049401</td>\n",
       "      <td>0.070574</td>\n",
       "      <td>16.593818</td>\n",
       "      <td>42.27</td>\n",
       "      <td>0.9982</td>\n",
       "      <td>3.27</td>\n",
       "      <td>0.71</td>\n",
       "      <td>8.64</td>\n",
       "      <td>7</td>\n",
       "    </tr>\n",
       "    <tr>\n",
       "      <th>1</th>\n",
       "      <td>8.40</td>\n",
       "      <td>0.5768</td>\n",
       "      <td>0.2099</td>\n",
       "      <td>3.109590</td>\n",
       "      <td>0.101681</td>\n",
       "      <td>22.555519</td>\n",
       "      <td>16.01</td>\n",
       "      <td>0.9960</td>\n",
       "      <td>3.35</td>\n",
       "      <td>0.57</td>\n",
       "      <td>10.03</td>\n",
       "      <td>8</td>\n",
       "    </tr>\n",
       "    <tr>\n",
       "      <th>2</th>\n",
       "      <td>7.54</td>\n",
       "      <td>0.5918</td>\n",
       "      <td>0.3248</td>\n",
       "      <td>3.673744</td>\n",
       "      <td>0.072416</td>\n",
       "      <td>9.316866</td>\n",
       "      <td>35.52</td>\n",
       "      <td>0.9990</td>\n",
       "      <td>3.31</td>\n",
       "      <td>0.64</td>\n",
       "      <td>9.23</td>\n",
       "      <td>8</td>\n",
       "    </tr>\n",
       "    <tr>\n",
       "      <th>3</th>\n",
       "      <td>5.39</td>\n",
       "      <td>0.4201</td>\n",
       "      <td>0.3131</td>\n",
       "      <td>3.371815</td>\n",
       "      <td>0.072755</td>\n",
       "      <td>18.212300</td>\n",
       "      <td>41.97</td>\n",
       "      <td>0.9945</td>\n",
       "      <td>3.34</td>\n",
       "      <td>0.55</td>\n",
       "      <td>14.07</td>\n",
       "      <td>9</td>\n",
       "    </tr>\n",
       "    <tr>\n",
       "      <th>4</th>\n",
       "      <td>6.51</td>\n",
       "      <td>0.5675</td>\n",
       "      <td>0.1940</td>\n",
       "      <td>4.404723</td>\n",
       "      <td>0.066379</td>\n",
       "      <td>9.360591</td>\n",
       "      <td>46.27</td>\n",
       "      <td>0.9925</td>\n",
       "      <td>3.27</td>\n",
       "      <td>0.45</td>\n",
       "      <td>11.49</td>\n",
       "      <td>8</td>\n",
       "    </tr>\n",
       "    <tr>\n",
       "      <th>...</th>\n",
       "      <td>...</td>\n",
       "      <td>...</td>\n",
       "      <td>...</td>\n",
       "      <td>...</td>\n",
       "      <td>...</td>\n",
       "      <td>...</td>\n",
       "      <td>...</td>\n",
       "      <td>...</td>\n",
       "      <td>...</td>\n",
       "      <td>...</td>\n",
       "      <td>...</td>\n",
       "      <td>...</td>\n",
       "    </tr>\n",
       "    <tr>\n",
       "      <th>995</th>\n",
       "      <td>7.96</td>\n",
       "      <td>0.6046</td>\n",
       "      <td>0.2662</td>\n",
       "      <td>1.592048</td>\n",
       "      <td>0.057555</td>\n",
       "      <td>14.892445</td>\n",
       "      <td>44.61</td>\n",
       "      <td>0.9975</td>\n",
       "      <td>3.35</td>\n",
       "      <td>0.54</td>\n",
       "      <td>10.41</td>\n",
       "      <td>8</td>\n",
       "    </tr>\n",
       "    <tr>\n",
       "      <th>996</th>\n",
       "      <td>8.48</td>\n",
       "      <td>0.4080</td>\n",
       "      <td>0.2227</td>\n",
       "      <td>0.681955</td>\n",
       "      <td>0.051627</td>\n",
       "      <td>23.548965</td>\n",
       "      <td>25.83</td>\n",
       "      <td>0.9972</td>\n",
       "      <td>3.41</td>\n",
       "      <td>0.46</td>\n",
       "      <td>9.91</td>\n",
       "      <td>8</td>\n",
       "    </tr>\n",
       "    <tr>\n",
       "      <th>997</th>\n",
       "      <td>6.11</td>\n",
       "      <td>0.4841</td>\n",
       "      <td>0.3720</td>\n",
       "      <td>2.377267</td>\n",
       "      <td>0.042806</td>\n",
       "      <td>21.624585</td>\n",
       "      <td>48.75</td>\n",
       "      <td>0.9928</td>\n",
       "      <td>3.23</td>\n",
       "      <td>0.55</td>\n",
       "      <td>9.94</td>\n",
       "      <td>7</td>\n",
       "    </tr>\n",
       "    <tr>\n",
       "      <th>998</th>\n",
       "      <td>7.76</td>\n",
       "      <td>0.3590</td>\n",
       "      <td>0.3208</td>\n",
       "      <td>4.294486</td>\n",
       "      <td>0.098276</td>\n",
       "      <td>12.746186</td>\n",
       "      <td>44.53</td>\n",
       "      <td>0.9952</td>\n",
       "      <td>3.30</td>\n",
       "      <td>0.66</td>\n",
       "      <td>9.76</td>\n",
       "      <td>8</td>\n",
       "    </tr>\n",
       "    <tr>\n",
       "      <th>999</th>\n",
       "      <td>5.87</td>\n",
       "      <td>0.5214</td>\n",
       "      <td>0.1883</td>\n",
       "      <td>2.179490</td>\n",
       "      <td>0.052923</td>\n",
       "      <td>16.203864</td>\n",
       "      <td>24.37</td>\n",
       "      <td>0.9983</td>\n",
       "      <td>3.29</td>\n",
       "      <td>0.70</td>\n",
       "      <td>10.17</td>\n",
       "      <td>7</td>\n",
       "    </tr>\n",
       "  </tbody>\n",
       "</table>\n",
       "<p>1000 rows × 12 columns</p>\n",
       "</div>"
      ],
      "text/plain": [
       "     fixed acidity  volatile acidity  citric acid  residual sugar  chlorides  \\\n",
       "0             5.90            0.4451       0.1813        2.049401   0.070574   \n",
       "1             8.40            0.5768       0.2099        3.109590   0.101681   \n",
       "2             7.54            0.5918       0.3248        3.673744   0.072416   \n",
       "3             5.39            0.4201       0.3131        3.371815   0.072755   \n",
       "4             6.51            0.5675       0.1940        4.404723   0.066379   \n",
       "..             ...               ...          ...             ...        ...   \n",
       "995           7.96            0.6046       0.2662        1.592048   0.057555   \n",
       "996           8.48            0.4080       0.2227        0.681955   0.051627   \n",
       "997           6.11            0.4841       0.3720        2.377267   0.042806   \n",
       "998           7.76            0.3590       0.3208        4.294486   0.098276   \n",
       "999           5.87            0.5214       0.1883        2.179490   0.052923   \n",
       "\n",
       "     free sulfur dioxide  total sulfur dioxide  density    pH  sulphates  \\\n",
       "0              16.593818                 42.27   0.9982  3.27       0.71   \n",
       "1              22.555519                 16.01   0.9960  3.35       0.57   \n",
       "2               9.316866                 35.52   0.9990  3.31       0.64   \n",
       "3              18.212300                 41.97   0.9945  3.34       0.55   \n",
       "4               9.360591                 46.27   0.9925  3.27       0.45   \n",
       "..                   ...                   ...      ...   ...        ...   \n",
       "995            14.892445                 44.61   0.9975  3.35       0.54   \n",
       "996            23.548965                 25.83   0.9972  3.41       0.46   \n",
       "997            21.624585                 48.75   0.9928  3.23       0.55   \n",
       "998            12.746186                 44.53   0.9952  3.30       0.66   \n",
       "999            16.203864                 24.37   0.9983  3.29       0.70   \n",
       "\n",
       "     alcohol  quality  \n",
       "0       8.64        7  \n",
       "1      10.03        8  \n",
       "2       9.23        8  \n",
       "3      14.07        9  \n",
       "4      11.49        8  \n",
       "..       ...      ...  \n",
       "995    10.41        8  \n",
       "996     9.91        8  \n",
       "997     9.94        7  \n",
       "998     9.76        8  \n",
       "999    10.17        7  \n",
       "\n",
       "[1000 rows x 12 columns]"
      ]
     },
     "execution_count": 28,
     "metadata": {},
     "output_type": "execute_result"
    }
   ],
   "source": [
    "df = pd.read_csv(\"anggur.csv\")\n",
    "df"
   ]
  },
  {
   "attachments": {},
   "cell_type": "markdown",
   "metadata": {
    "datalore": {
     "hide_input_from_viewers": false,
     "hide_output_from_viewers": false,
     "node_id": "Zt1cS5lLjsrjN17vg7sk9q",
     "report_properties": {
      "rowId": "X1Zwlb0SRRUhIMUoTEjoxs"
     },
     "type": "MD"
    }
   },
   "source": [
    "## Data kolom fixed acidity dibagi 2 sama rata: bagian awal dan bagian akhir kolom. Benarkah rata-rata kedua bagian tersebut sama?"
   ]
  },
  {
   "attachments": {},
   "cell_type": "markdown",
   "metadata": {
    "datalore": {
     "hide_input_from_viewers": false,
     "hide_output_from_viewers": false,
     "node_id": "mKudpNpiigGKSAtfvEIGKp",
     "report_properties": {
      "rowId": "WxHWZOhKMfRpUJ6nWQnwDM"
     },
     "type": "MD"
    }
   },
   "source": [
    "Menggunakan data Fixed Acidity keseluruhan sebagai sampel</br></br>\n",
    "\n",
    "$H_{0}: $ Rataan kolom bagian awal sama dengan rataan kolom bagian akhir fixed acidity $(\\mu_{1} - \\mu_{2} = 0)$\n",
    "\n",
    "$H_{1}: $ Rataan kolom bagian awal tidak sama dengan rataan kolom bagian akhir fixed acidity $(\\mu_{1} - \\mu_{2} \\neq 0)$ </br></br>\n",
    "\n",
    "Hasil tes diuji dilakukan dengan signifikansi $ \\alpha = 0.05$\n",
    "\n",
    "Uji statistik dapat dilakukan dengan two tailed test yaitu bagian kiri dengan $z < -z_{\\alpha/2}$ dan bagian kanan dengan $z > z_{\\alpha/2}$\n",
    "\n",
    "Nilai $z$ didapatkan dengan rumus $$z = \\frac{\\left ( \\bar{x_{1}} - \\bar{x_{2}} \\right ) - \\left ( \\mu_{1} - \\mu_{2} \\right )}{\\sqrt{\\frac{\\sigma^{2}_{1}}{n_{1}} + \\frac{\\sigma^{2}_{2}}{n_{2}}}}$$\n",
    "\n",
    "$H_{0}$ ditolak jika $z < -z_{\\alpha/2}$ atau $z > z_{\\alpha/2}$ dan $p \\lt \\alpha$ </br> $H_{0}$ diterima jika $-z_{\\alpha/2} \\leq z \\leq z_{\\alpha/2}$ dan $p \\geq a$\n"
   ]
  },
  {
   "cell_type": "code",
   "execution_count": 29,
   "metadata": {
    "datalore": {
     "hide_input_from_viewers": false,
     "hide_output_from_viewers": false,
     "node_id": "kn9grmbmGP0VP980yASpfm",
     "report_properties": {
      "rowId": "PdzcaXJtczKrHMvuc1iRma"
     },
     "type": "CODE"
    }
   },
   "outputs": [
    {
     "name": "stdout",
     "output_type": "stream",
     "text": [
      "Nilai z_a2 adalah :  1.959963984540054\n",
      "Nilai p_a adalah:  0.05\n",
      "\n",
      "Nilai z adalah :  0.02604106999906379\n",
      "Nilai p adalah : 0.9792245804254097\n",
      "\n",
      "-1.959963984540054  <=  0.02604106999906379  <=  1.959963984540054 dan 0.9792245804254097  >=  0.05\n",
      "\n",
      "Karena -z_a2 <= z <= z_a2 dan p >= alpha (tidak berada pada daerah kritis), maka H0 tidak dapat ditolak\n"
     ]
    }
   ],
   "source": [
    "delta = 0\n",
    "alpha = 0.05\n",
    "\n",
    "len_half_data = len(df) // 2\n",
    "df_awal = df[\"fixed acidity\"][:len_half_data]\n",
    "df_akhir = df[\"fixed acidity\"][len_half_data:]\n",
    "z, p = ztest(df_awal, df_akhir, value=delta)\n",
    "\n",
    "z_a2 = st.norm.ppf(1-(alpha/2))\n",
    "\n",
    "print(\"Nilai z_a2 adalah : \", z_a2)\n",
    "print(\"Nilai p_a adalah: \", alpha)\n",
    "\n",
    "print(\"\\nNilai z adalah : \", z)\n",
    "print(f\"Nilai p adalah : {p}\\n\")\n",
    "\n",
    "\n",
    "if (z < -z_a2 and (p < alpha)) :\n",
    "    print(z, \" < \", -z_a2, \"dan\", p , \" < \", alpha)\n",
    "    print(\"\\nKarena z < -z_a2 dan p < alpha (berada pada daerah kritis), maka H0 dapat ditolak\")\n",
    "elif ((z > z_a2) and (p < alpha)) :\n",
    "    print(z, \" > \", z_a2, \"dan\", p , \" < \", alpha)\n",
    "    print(\"\\nKarena z > z_a2 dan p < alpha (berada pada daerah kritis), maka H0 dapat ditolak\")\n",
    "else : # (-z_a2 <= z <= z_a2 and p >= alpha)\n",
    "    print(-z_a2 , \" <= \", z, \" <= \", z_a2, \"dan\", p, \" >= \", alpha)\n",
    "    print(\"\\nKarena -z_a2 <= z <= z_a2 dan p >= alpha (tidak berada pada daerah kritis), maka H0 tidak dapat ditolak\")"
   ]
  },
  {
   "attachments": {},
   "cell_type": "markdown",
   "metadata": {
    "datalore": {
     "hide_input_from_viewers": true,
     "hide_output_from_viewers": true,
     "node_id": "PdbAER77EEpdxzh3VzTmi8",
     "type": "MD"
    }
   },
   "source": [
    "Didapatkan $z = 0.026$ dan $z_{\\alpha/2} = 1.9599$. Karena $-z_{a/2} < z < z_{a/2}$ dan $p \\geq \\alpha$, maka $z$ tidak terdapat pada area kritis dan $H_{0}$ tidak dapat ditolak.\n",
    "\n",
    "Kesimpulan: Rataan kolom bagian awal sama dengan rataan kolom bagian akhir fixed acidity"
   ]
  },
  {
   "attachments": {},
   "cell_type": "markdown",
   "metadata": {
    "datalore": {
     "hide_input_from_viewers": false,
     "hide_output_from_viewers": false,
     "node_id": "6fk8DqWxsdBZ1VBNEo6D4e",
     "report_properties": {
      "rowId": "XOZ124hmP0PnpRXT8fXwDU"
     },
     "type": "MD"
    }
   },
   "source": [
    "## Data kolom chlorides dibagi 2 sama rata: bagian awal dan bagian akhir kolom. Benarkah rata-rata bagian awal lebih besar daripada bagian akhir sebesar 0.001?"
   ]
  },
  {
   "attachments": {},
   "cell_type": "markdown",
   "metadata": {
    "datalore": {
     "hide_input_from_viewers": false,
     "hide_output_from_viewers": false,
     "node_id": "jHa6plKX8p49iGyu852QCJ",
     "report_properties": {
      "rowId": "JfxdqriNQODPYnadV7QClA"
     },
     "type": "MD"
    }
   },
   "source": [
    "Menggunakan data Chlorides keseluruhan sebagai sampel</br></br>\n",
    "\n",
    "$H_{0}: $ Rataan kolom bagian awal sama dengan rataan kolom bagian akhir chlorides ditambah $0.001$ $(\\mu_{1} - \\mu_{2} = 0.001)$\n",
    "\n",
    "$H_{1}: $ Rataan kolom bagian awal tidak sama dengan rataan kolom bagian akhir chlorides ditambah $0.001$ $(\\mu_{1} - \\mu_{2} \\neq 0.001)$ </br></br>\n",
    "\n",
    "Hasil tes diuji dilakukan dengan signifikansi $ \\alpha = 0.05$\n",
    "\n",
    "Uji statistik dapat dilakukan dengan two tailed test yaitu bagian kiri dengan $z < -z_{\\alpha/2}$ dan bagian kanan dengan $z > z_{\\alpha/2}$\n",
    "\n",
    "Nilai $z$ didapatkan dengan rumus $$z = \\frac{\\left ( \\bar{x_{1}} - \\bar{x_{2}} \\right ) - \\left ( \\mu_{1} - \\mu_{2} \\right )}{\\sqrt{\\frac{\\sigma^{2}_{1}}{n_{1}} + \\frac{\\sigma^{2}_{2}}{n_{2}}}}$$ </br>\n",
    "\n",
    "$H_{0}$ ditolak jika $z < -z_{\\alpha/2}$ atau $z > z_{\\alpha/2}$ dan $p \\lt \\alpha$ </br> $H_{0}$ diterima jika $-z_{\\alpha/2} \\leq z \\leq z_{\\alpha/2}$ dan $p \\geq a$"
   ]
  },
  {
   "cell_type": "code",
   "execution_count": 30,
   "metadata": {
    "datalore": {
     "hide_input_from_viewers": false,
     "hide_output_from_viewers": false,
     "node_id": "8Brqq1misdpliZXFboN2Gq",
     "report_properties": {
      "rowId": "HsELXrBO8dykB9e6Tu1whT"
     },
     "type": "CODE"
    }
   },
   "outputs": [
    {
     "name": "stdout",
     "output_type": "stream",
     "text": [
      "Nilai z_a2 adalah :  1.959963984540054\n",
      "Nilai p_a adalah:  0.05\n",
      "\n",
      "Nilai z adalah :  -0.467317122852132\n",
      "Nilai p adalah : 0.640273007581107\n",
      "\n",
      "-1.959963984540054  <=  -0.467317122852132  <=  1.959963984540054 dan 0.640273007581107  >=  0.05\n",
      "\n",
      "Karena -z_a2 <= z <= z_a2 dan p >= alpha (tidak berada pada daerah kritis), maka H0 tidak dapat ditolak\n"
     ]
    }
   ],
   "source": [
    "delta = 0.001\n",
    "alpha = 0.05\n",
    "\n",
    "len_half_data = len(df) // 2\n",
    "df_awal = df[\"chlorides\"][:len_half_data]\n",
    "df_akhir = df[\"chlorides\"][len_half_data:]\n",
    "z, p = ztest(df_awal, df_akhir, value=delta)\n",
    "\n",
    "z_a2 = st.norm.ppf(1-(alpha/2))\n",
    "\n",
    "print(\"Nilai z_a2 adalah : \", z_a2)\n",
    "print(\"Nilai p_a adalah: \", alpha)\n",
    "\n",
    "print(\"\\nNilai z adalah : \", z)\n",
    "print(f\"Nilai p adalah : {p}\\n\")\n",
    "\n",
    "if (z < -z_a2 and (p < alpha)) :\n",
    "    print(z, \" < \", -z_a2, \"dan\", p , \" < \", alpha)\n",
    "    print(\"\\nKarena z < -z_a2 dan p < alpha (berada pada daerah kritis), maka H0 ditolak\")\n",
    "elif ((z > z_a2) and (p < alpha)) :\n",
    "    print(z, \" > \", z_a2, \"dan\", p , \" < \", alpha)\n",
    "    print(\"\\nKarena z > z_a2 dan p < alpha (berada pada daerah kritis), maka H0 ditolak\")\n",
    "else :# (-z_a2 <= z <= z_a2 and p >= alpha)\n",
    "    print(-z_a2 , \" <= \", z, \" <= \", z_a2, \"dan\", p, \" >= \", alpha)\n",
    "    print(\"\\nKarena -z_a2 <= z <= z_a2 dan p >= alpha (tidak berada pada daerah kritis), maka H0 tidak dapat ditolak\")"
   ]
  },
  {
   "attachments": {},
   "cell_type": "markdown",
   "metadata": {
    "datalore": {
     "hide_input_from_viewers": true,
     "hide_output_from_viewers": true,
     "node_id": "hRhQHQUZRoa9hrmmP2qBHh",
     "type": "MD"
    }
   },
   "source": [
    "Didapatkan $z = -0.4673$ dan $z_{\\alpha/2} = 1.9599$. Karena $-z_{a/2} < z < z_{a/2}$ dan $p \\geq \\alpha$, maka $z$ tidak terdapat pada area kritis dan $H_{0}$ tidak dapat ditolak.\n",
    "\n",
    "Kesimpulan: Rataan kolom bagian awal sama dengan rataan kolom bagian akhir chlorides ditambah \n",
    "0.001"
   ]
  },
  {
   "attachments": {},
   "cell_type": "markdown",
   "metadata": {
    "datalore": {
     "hide_input_from_viewers": false,
     "hide_output_from_viewers": false,
     "node_id": "epDWHSqJzixYpWFSclowQ0",
     "report_properties": {
      "rowId": "K86vUZpS04KYPwGYKaGMEQ"
     },
     "type": "MD"
    }
   },
   "source": [
    "## Benarkah rata-rata sampel 25 baris pertama kolom Volatile Acidity sama dengan rata-rata 25 baris pertama kolom Sulphates ?"
   ]
  },
  {
   "attachments": {},
   "cell_type": "markdown",
   "metadata": {
    "datalore": {
     "hide_input_from_viewers": false,
     "hide_output_from_viewers": false,
     "node_id": "V7vCY3fE85WoQBAVeKsymB",
     "report_properties": {
      "rowId": "pvZLaOgIvWcsTcS85TMEpV"
     },
     "type": "MD"
    }
   },
   "source": [
    "Menggunakan data Volatile Acidity dan Sulphates sebagian sebagai sampel</br></br>\n",
    "\n",
    "$H_{0}: $ Rataan 25 baris pertama sama kolom Volatile Acidity dengan rataan 25 baris pertama kolom Sulphates $(\\mu_{1} - \\mu_{2} = 0)$\n",
    "\n",
    "$H_{1}:$ Rataan 25 baris pertama tidak sama kolom Volatile Acidity dengan rataan 25 baris pertama kolom Sulphates $(\\mu_{1} - \\mu_{2} \\neq 0)$ \n",
    "</br></br>\n",
    "\n",
    "Hasil tes diuji dilakukan dengan signifikansi $ \\alpha = 0.05$\n",
    "\n",
    "Uji statistik dapat dilakukan dengan two tailed test yaitu bagian kiri dengan $z < -z_{\\alpha/2}$ dan bagian kanan dengan $z > z_{\\alpha/2}$\n",
    "\n",
    "Nilai $z$ didapatkan dengan rumus $$z = \\frac{\\left ( \\bar{x_{1}} - \\bar{x_{2}} \\right ) - \\left ( \\mu_{1} - \\mu_{2} \\right )}{\\sqrt{\\frac{\\sigma^{2}_{1}}{n_{1}} + \\frac{\\sigma^{2}_{2}}{n_{2}}}}$$ </br>\n",
    "\n",
    "$H_{0}$ ditolak jika $z < -z_{\\alpha/2}$ atau $z > z_{\\alpha/2}$ dan $p \\lt \\alpha$ </br> $H_{0}$ diterima jika $-z_{\\alpha/2} \\leq z \\leq z_{\\alpha/2}$ dan $p \\geq a$"
   ]
  },
  {
   "cell_type": "code",
   "execution_count": 31,
   "metadata": {
    "datalore": {
     "hide_input_from_viewers": false,
     "hide_output_from_viewers": false,
     "node_id": "JYIYiAAi1kmuCd0QOnpQ11",
     "report_properties": {
      "rowId": "VjFOG4NC54J1FmwgYl3Zlo"
     },
     "type": "CODE"
    }
   },
   "outputs": [
    {
     "name": "stdout",
     "output_type": "stream",
     "text": [
      "Nilai z_a2 adalah :  1.959963984540054\n",
      "Nilai p_a adalah:  0.05\n",
      "\n",
      "Nilai z adalah :  -3.9977861838398008\n",
      "Nilai p adalah : 6.393766557154183e-05\n",
      "\n",
      "-3.9977861838398008  <  -1.959963984540054 dan 6.393766557154183e-05  <  0.05\n",
      "\n",
      "Karena z < -z_a2 dan p < alpha (berada pada daerah kritis), maka H0 dapat ditolak\n"
     ]
    }
   ],
   "source": [
    "delta = 0\n",
    "alpha = 0.05\n",
    "\n",
    "len_half_data = len(df) // 2\n",
    "df_awal = df[\"volatile acidity\"].head(25)\n",
    "df_akhir = df[\"sulphates\"].tail(25)\n",
    "z, p = ztest(df_awal, df_akhir, value=delta)\n",
    "\n",
    "z_a2 = st.norm.ppf(1-(alpha/2))\n",
    "\n",
    "print(\"Nilai z_a2 adalah : \", z_a2)\n",
    "print(\"Nilai p_a adalah: \", alpha)\n",
    "\n",
    "print(\"\\nNilai z adalah : \", z)\n",
    "print(f\"Nilai p adalah : {p}\\n\")\n",
    "\n",
    "if (z < -z_a2 and (p < alpha)) :\n",
    "    print(z, \" < \", -z_a2, \"dan\", p , \" < \", alpha)\n",
    "    print(\"\\nKarena z < -z_a2 dan p < alpha (berada pada daerah kritis), maka H0 dapat ditolak\")\n",
    "elif ((z > z_a2) and (p < alpha)) :\n",
    "    print(z, \" > \", z_a2, \"dan\", p , \" < \", alpha)\n",
    "    print(\"\\nKarena z > z_a2 dan p < alpha (berada pada daerah kritis), maka H0 dapat ditolak\")\n",
    "else : # (-z_a2 <= z <= z_a2 and p >= alpha)\n",
    "    print(-z_a2, \" <= \", z, \" <= \", z_a2, \"dan\", p, \" >= \", alpha)\n",
    "    print(\"\\nKarena -z_a2 <= z <= z_a2 dan p >= alpha (tidak berada pada daerah kritis), maka H0 tidak dapat ditolak\")"
   ]
  },
  {
   "attachments": {},
   "cell_type": "markdown",
   "metadata": {
    "datalore": {
     "hide_input_from_viewers": true,
     "hide_output_from_viewers": true,
     "node_id": "w6oRbpLxyKAKBsTc5kesiz",
     "type": "MD"
    }
   },
   "source": [
    "Didapatkan $z = -3.9978$ dan $z_{\\alpha/2} = 1.9599$. Karena $z < -z_{a/2}$ dan $p < \\alpha$, maka $z$ terdapat pada area kritis bagian kiri dan $H_{0}$ dapat ditolak.\n",
    "\n",
    "Kesimpulan: Rataan 25 baris pertama tidak sama kolom Volatile Acidity dengan rataan 25 baris pertama kolom Sulphates"
   ]
  },
  {
   "attachments": {},
   "cell_type": "markdown",
   "metadata": {
    "datalore": {
     "hide_input_from_viewers": false,
     "hide_output_from_viewers": false,
     "node_id": "omdPvBZVwmVxeIR2Rhz2W7",
     "report_properties": {
      "rowId": "zZAtWvmwDmfOf0H6FzrvcO"
     },
     "type": "MD"
    }
   },
   "source": [
    "## Bagian awal kolom residual sugar memiliki variansi yang sama dengan bagian akhirnya?"
   ]
  },
  {
   "attachments": {},
   "cell_type": "markdown",
   "metadata": {
    "datalore": {
     "hide_input_from_viewers": false,
     "hide_output_from_viewers": false,
     "node_id": "GJH6bK8hpuesHiMREsXpZu",
     "report_properties": {
      "rowId": "PxnIZOpNj9jKnKaikECMHi"
     },
     "type": "MD"
    }
   },
   "source": [
    "Menggunakan data Residual Sugar keseluruhan sebagai sampel</br></br>\n",
    "\n",
    "$H_{0}: $ Variansi bagian awal kolom residual sugar sama dengan bagian akhirnya $(\\sigma_{1}^{2} = \\sigma_{2}^{2})$\n",
    "\n",
    "$H_{1}:$ Variansi bagian awal kolom residual sugar tidak sama dengan bagian akhirnya $(\\sigma_{1}^{2} \\neq \\sigma_{2}^{2})$\n",
    "</br></br>\n",
    "\n",
    "Hasil tes diuji dilakukan dengan signifikansi $ \\alpha = 0.05$\n",
    "\n",
    "Uji statistik dapat dilakukan dengan two tailed test yaitu bagian kiri dengan $f < f_{1-\\alpha/2}(v_{1}, v_{2})$ dan bagian kanan dengan $f > f_{\\alpha/2}(v_{1}, v_{2})$\n",
    "\n",
    "Nilai $f$ didapatkan dengan rumus $$f = \\frac{s_{1}^{2}}{s_{2}^{2}}$$\n",
    "</br>\n",
    "\n",
    "Nilai $v_{1}$ dan $v_{2}$ diperolah dari $$v_{1} = n_{1}-1$$$$ v_{2}=n_{2} - 1$$ </br>\n",
    "\n",
    "$H_{0}$ ditolak jika $f > f_{\\alpha/2}(v_{1}, v_{2})$ atau $f < f_{1 - \\alpha/2}(v_{1}, v_{2})$ dan $p < \\alpha$ </br> $H_{0}$ diterima jika $f_{1-\\alpha/2}(v_{1},v_{2}) \\leq f \\leq f_{\\alpha/2}(v_{1},v_{2})$ dan $p \\geq a$"
   ]
  },
  {
   "cell_type": "code",
   "execution_count": 32,
   "metadata": {
    "datalore": {
     "hide_input_from_viewers": false,
     "hide_output_from_viewers": false,
     "node_id": "EeqXPKFPOtvlGv1nvqFMip",
     "report_properties": {
      "rowId": "JNeFzbcxa3pSwAIm5y64TO"
     },
     "type": "CODE"
    }
   },
   "outputs": [
    {
     "name": "stdout",
     "output_type": "stream",
     "text": [
      "Nilai p_a adalah: 0.05\n",
      "Nilai f_kiri adalah:  1.1920574017201653\n",
      "Nilai f_kanan adalah:  0.8388857772763105\n",
      "\n",
      "Nilai f adalah:  0.9420041066941615\n",
      "Nilai p adalah: 0.747589820237691\n",
      "\n",
      "1.1920574017201653  <=  0.9420041066941615  <=  0.8388857772763105 dan 0.747589820237691  >=  0.05\n",
      "\n",
      "Karena f_kiri <= f <= f_kanan dan p >= alpha (tidak berada pada daerah kritis), maka H0 tidak dapat ditolak\n"
     ]
    }
   ],
   "source": [
    "alpha = 0.05\n",
    "len_half_data = len(df) // 2\n",
    "df_awal = df[\"residual sugar\"][:len_half_data]\n",
    "df_akhir = df[\"residual sugar\"][len_half_data:]\n",
    "v1 = len(df_awal) - 1\n",
    "v2 = len(df_akhir) - 1\n",
    "\n",
    "f = df_awal.var() / df_akhir.var()\n",
    "f_kiri = st.f.ppf(1 - (alpha / 2), v1, v2)\n",
    "f_kanan = st.f.ppf((alpha / 2), v1, v2)\n",
    "\n",
    "p = 1 - st.f.cdf(f, v1, v2)\n",
    "\n",
    "\n",
    "print(\"Nilai p_a adalah:\", alpha)\n",
    "print(\"Nilai f_kiri adalah: \", f_kiri)\n",
    "print(\"Nilai f_kanan adalah: \", f_kanan)\n",
    "\n",
    "print(\"\\nNilai f adalah: \", f)\n",
    "print(f\"Nilai p adalah: {p}\\n\")\n",
    "\n",
    "if (f > f_kanan and p < alpha) :\n",
    "    print(f, \" > \", f_kanan, \"dan\", p , \" < \", alpha)\n",
    "    print(\"\\nKarena f > f_down dan p < alpha (berada pada daerah kritis), maka H0 dapat ditolak\")\n",
    "elif (f < f_kiri and p < alpha) :\n",
    "    print(f, \" < \", f_kiri, \"dan\", p , \" < \", alpha)\n",
    "    print(\"\\nKarena f < f_up dan p < alpha (berada pada daerah kritis), maka H0 dapat ditolak\")\n",
    "else : # (f_kiri <= f <= f_kanan and p >= alpha)\n",
    "    print(f_kiri, \" <= \", f, \" <= \", f_kanan, \"dan\", p, \" >= \", alpha)\n",
    "    print(\"\\nKarena f_kiri <= f <= f_kanan dan p >= alpha (tidak berada pada daerah kritis), maka H0 tidak dapat ditolak\")"
   ]
  },
  {
   "attachments": {},
   "cell_type": "markdown",
   "metadata": {
    "datalore": {
     "hide_input_from_viewers": true,
     "hide_output_from_viewers": true,
     "node_id": "2L8iWDaV0smpygjA6CytCZ",
     "type": "MD"
    }
   },
   "source": [
    "Didapatkan $f = 0.9420$, $f_{kiri} = 1.1920$, dan $f_{kanan} = 0.8389$. Karena $f_{kiri} < f < f_{kanan}$ dan $p \\geq \\alpha$, maka $f$ tidak terdapat pada area kritis dan $H_{0}$ tidak dapat ditolak.\n",
    "\n",
    "Kesimpulan: Variansi bagian awal kolom residual sugar tidak sama dengan bagian akhirnya "
   ]
  },
  {
   "attachments": {},
   "cell_type": "markdown",
   "metadata": {
    "datalore": {
     "hide_input_from_viewers": false,
     "hide_output_from_viewers": false,
     "node_id": "0xeuYBbK3VPp3LApAn0wTQ",
     "report_properties": {
      "rowId": "bnKIWMeMFUdK0Y4cL8wp52"
     },
     "type": "MD"
    }
   },
   "source": [
    "## Proporsi nilai setengah bagian awal alcohol yang lebih dari 7, adalah lebih besar daripada, proporsi nilai yang sama di setengah bagian akhir alcohol?"
   ]
  },
  {
   "attachments": {},
   "cell_type": "markdown",
   "metadata": {
    "datalore": {
     "hide_input_from_viewers": false,
     "hide_output_from_viewers": false,
     "node_id": "PVTsl9071LeZ2Nszx3w2iW",
     "report_properties": {
      "rowId": "FE3PgS1EUsYPhxOqegzTpu"
     },
     "type": "MD"
    }
   },
   "source": [
    "Menggunakan data Alcohol keseluruhan sebagai sampel</br></br>\n",
    "\n",
    "$H_{0}: $ Proporsi nilai bagian awal alcohol yang lebih dari $7$ lebih daripada proporsi nilai yang sama di setengah nilai yang sama di setengah bagian akhirnya $(p_{1} - p_{2} = 0)$\n",
    "\n",
    "$H_{1}:$ Proporsi nilai bagian awal alcohol yang lebih dari $7$ lebih daripada proporsi nilai yang sama di setengah nilai yang sama di setengah bagian akhirnya $(p_{1} - p_{2} \\gt 0)$\n",
    "</br></br>\n",
    "\n",
    "Hasil tes diuji dilakukan dengan signifikansi $ \\alpha = 0.05$\n",
    "\n",
    "Uji statistik dapat dilakukan dengan one tailed test ke arah kanan dengan mencari $z > z_{\\alpha}$\n",
    "\n",
    "Nilai $z$ didapatkan dengan rumus $$z = \\frac{\\hat p_{1} - \\hat p_{2}}{\\sqrt{\\hat p \\hat q (\\frac{1}{n_{1}} + \\frac{1}{n_{2}})}}$$\n",
    "</br>\n",
    "\n",
    "Nilai $\\hat p$ diperolah dari $$\\hat p = \\frac{x_{1} + x_{2}}{n_{1} + n_{2}}$$\n",
    "dengan $\\hat q$ adalah $$ \\hat q = 1 - \\hat p $$ </br>\n",
    "\n",
    "$H_{0}$ ditolak jika $z > z_{\\alpha}$ dan $p < \\alpha$ </br> $H_{0}$ diterima jika $z \\leq z_{\\alpha}$ dan $p \\geq \\alpha$"
   ]
  },
  {
   "cell_type": "code",
   "execution_count": 33,
   "metadata": {
    "datalore": {
     "hide_input_from_viewers": false,
     "hide_output_from_viewers": false,
     "node_id": "bN7jR82wfLv7KbRd5RzYHh",
     "report_properties": {
      "rowId": "QBAVgQNKcW8awcKTRbeLl3"
     },
     "type": "CODE"
    }
   },
   "outputs": [
    {
     "name": "stdout",
     "output_type": "stream",
     "text": [
      "Nilai z_a adalah :  1.6448536269514722\n",
      "Nilai p_a adalah:  0.05\n",
      "\n",
      "Nilai z adalah :  0.0\n",
      "Nilai p adalah : 1.0\n",
      "\n",
      "0.0  <=  1.6448536269514722 dan 1.0  >=  0.05\n",
      "\n",
      "Karena z <= z_a dan p >= alpha (tidak berada pada daerah kritis), maka H0 tidak dapat ditolak\n"
     ]
    }
   ],
   "source": [
    "delta = 0\n",
    "alpha = 0.05\n",
    "\n",
    "len_half_data = len(df) // 2\n",
    "df_awal = df[:len_half_data]\n",
    "df_akhir = df[len_half_data:]\n",
    "\n",
    "z, p = proportions_ztest([len(df_awal[df_awal[\"alcohol\"] > 7]),\n",
    "                          len(df_akhir[df_akhir[\"alcohol\"] > 7])],\n",
    "                         [len(df_awal), len(df_akhir)],\n",
    "                         value=delta, prop_var=delta)\n",
    "\n",
    "z_a = st.norm.ppf(1 - alpha)\n",
    "\n",
    "print(\"Nilai z_a adalah : \", z_a)\n",
    "print(\"Nilai p_a adalah: \", alpha)\n",
    "\n",
    "print(\"\\nNilai z adalah : \", z)\n",
    "print(f\"Nilai p adalah : {p}\\n\")\n",
    "\n",
    "if (z > z_a and p < alpha):\n",
    "    print(z, \" > \", z_a, \"dan\", p , \" < \", alpha)\n",
    "    print(\"\\nKarena z > z_a dan p < alpha (berada pada daerah kritis), maka H0 dapat ditolak\")\n",
    "else : # (z <= z_a and p >= alpha)\n",
    "    print(z, \" <= \", z_a, \"dan\", p , \" >= \", alpha)\n",
    "    print(\"\\nKarena z <= z_a dan p >= alpha (tidak berada pada daerah kritis), maka H0 tidak dapat ditolak\")"
   ]
  },
  {
   "attachments": {},
   "cell_type": "markdown",
   "metadata": {
    "datalore": {
     "hide_input_from_viewers": true,
     "hide_output_from_viewers": true,
     "node_id": "Mma6XsiJahccQWIpH5oh3C",
     "type": "MD"
    }
   },
   "source": [
    "Didapatkan $z = 0$ dan $z_{\\alpha} = 1.645$. Karena $z < z_{\\alpha}$ dan $p \\geq \\alpha$, maka $z$ tidak terdapat pada area kritis dan $H_{0}$ tidak dapat ditolak.\n",
    "\n",
    "Kesimpulan: Proporsi nilai bagian awal alcohol yang lebih dari 7 lebih daripada proporsi nilai yang sama di setengah nilai yang sama di setengah bagian akhirnya"
   ]
  }
 ],
 "metadata": {
  "datalore": {
   "base_environment": "minimal",
   "computation_mode": "JUPYTER",
   "package_manager": "pip",
   "packages": [
    {
     "name": "matplotlib",
     "source": "PIP",
     "version": "3.7.1"
    },
    {
     "name": "seaborn",
     "source": "PIP",
     "version": "0.12.2"
    },
    {
     "name": "scipy",
     "source": "PIP",
     "version": "1.10.1"
    },
    {
     "name": "statsmodels",
     "source": "PIP",
     "version": "0.13.5"
    }
   ],
   "report_row_ids": [
    "fCwA4pV2Avvp8YWJzVwzoC",
    "gluZeJkgQTrD9kZLHutjVN",
    "tqh9tL0tWF391Fl4Wxt9hn",
    "0HnkNE1ovyfsOuU1SsZoDm",
    "96ilHgqSaPQMu2xoedxgbG",
    "JBv4p2gFHANe4BAD83k15j",
    "X8xPxNH0qqRcBJwtZdZl7L",
    "cTIfGYld6T0JpP2rBhBrid",
    "6OKxRae6w88urmZLyp9zo2",
    "EyTuFqhPdR1Aektu8JLDrx",
    "2PcQVU6LOBOiSF4AqLLPQW",
    "2VfWdfxudwNqDQVR9TEESZ",
    "y9jHzE3XB0eRGa4nT6yESx",
    "5wGusCqdl1QnM8uMGxjgRe",
    "uQAVj5YGKthe1l7fB6Bmt9",
    "QfifiTvwyrsuZ2p9bmX8AA",
    "KkrEh6ap7av4cSbybHiMHJ",
    "yci12Dy5WPeL3um1Lor58t",
    "b95khvEguQNzBcsiYVQw5t",
    "COrX4Qe9qC1SRQy6is6nLI",
    "K75yQkH9yOysjMnlCQ3KBz",
    "pSM3mOD2fHZvcL3IQXUGTx",
    "nkDsBw3fMy8U9v3E7WvinF",
    "TrOBb8JKtmjHUtjOyS2b5L",
    "ivgwJAiuxXJmwQdgDDAiZb",
    "udSc42YzGzGwgPqOmhsyvR",
    "JBA1ifJcxFjz3i56kUULLV",
    "tSGEHJZ5Dt0lmSFi4TBZQi",
    "Z9qhRd7XJCKJQeAbR6RD4Y",
    "vBElOovRWyhfO1UwltaR3a",
    "DJnX260MCVRIxiwj5iIMRw",
    "KgFlaTScRpFUI7C4HGcyLU",
    "it0k0CC8p47JYewKWkwOLm",
    "NhQLglf33HTYqMwAm06qh5",
    "6mAbYb616fWbF48xfuPOoU",
    "4jKojmCICY5MeWI6YkJikK",
    "p89Z6dOWDhEsKF3n8vHp2Y",
    "uV7DMGhSg68hwhlC1CMwiO",
    "AzdtKp3eo0nsyBYSbbzXdP",
    "XAUFhwk8xxDpR74RLgJvEG",
    "3TtVAv92jShubhqg9px4NM",
    "JghmmX7hNjlq8tfvtk8PfP",
    "6ZLJAFd3wVmkOWmcFWv9wA",
    "MbPdHNeluCXtOKMDbM7BHM",
    "0ziWbsH3nlfy9ImnupM8MM",
    "wit5J7f01kd4KkukLFAlfD",
    "VoxaQOHfXgomJ3LSQKjAxx",
    "Memtj4b7gOGZwxZm3K0ADn",
    "NjguLjIEYOxPPVJgoxnhH1",
    "ETRxebD42SOEOD6pw9PWI4",
    "Krvk0DSUd9qAjf4vHV7ZQs",
    "PCBdhGJ7gvpTjtzgpP5kCK",
    "OdNgFAtjZpAbU51obA6PrJ",
    "1lSOjS5mkbdpOyl7HKsICT",
    "m6hx2ykegjmX3UMhtjg6Ln",
    "w9HjQ3SWPA8lQfBFN6orvD",
    "ui7rJA3f6831eI4DPiSULf",
    "plBec2UygKsm0GLh7LyF6w",
    "UoPy9vOLSMtA46qfSsrhOD",
    "pEhCBSH8XhfGTXv4NNEesO",
    "2cvcYLN47H19EeP4mgjGVz",
    "GMShJFQvDe49L12l5MZCYo",
    "217RZDyTCn66hCEV2XszCy",
    "KxfkQL8HmaZk7xwLoQKZJm",
    "hhxPG89itfDsjSSs8XfToa",
    "XyaLMPqNY9Ulr8AVhg5H2b",
    "zmuJNuFZVIji81xrU15RAF",
    "6upgl52ZYRKxWHnteDZIwN",
    "B8We5K1ScVqMANNqaSggqr",
    "X1Zwlb0SRRUhIMUoTEjoxs",
    "WxHWZOhKMfRpUJ6nWQnwDM",
    "PdzcaXJtczKrHMvuc1iRma",
    "XOZ124hmP0PnpRXT8fXwDU",
    "JfxdqriNQODPYnadV7QClA",
    "HsELXrBO8dykB9e6Tu1whT",
    "K86vUZpS04KYPwGYKaGMEQ",
    "pvZLaOgIvWcsTcS85TMEpV",
    "VjFOG4NC54J1FmwgYl3Zlo",
    "zZAtWvmwDmfOf0H6FzrvcO",
    "PxnIZOpNj9jKnKaikECMHi",
    "JNeFzbcxa3pSwAIm5y64TO",
    "bnKIWMeMFUdK0Y4cL8wp52",
    "FE3PgS1EUsYPhxOqegzTpu",
    "QBAVgQNKcW8awcKTRbeLl3"
   ],
   "version": 3
  },
  "kernelspec": {
   "display_name": "Python 3",
   "language": "python",
   "name": "python3"
  },
  "language_info": {
   "codemirror_mode": {
    "name": "ipython",
    "version": 3
   },
   "file_extension": ".py",
   "mimetype": "text/x-python",
   "name": "python",
   "nbconvert_exporter": "python",
   "pygments_lexer": "ipython3",
   "version": "3.9.4"
  }
 },
 "nbformat": 4,
 "nbformat_minor": 4
}
